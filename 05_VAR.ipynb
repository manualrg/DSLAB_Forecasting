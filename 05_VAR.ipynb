{
 "cells": [
  {
   "cell_type": "code",
   "execution_count": null,
   "metadata": {},
   "outputs": [],
   "source": [
    "%%capture\n",
    "%run 02_FeatEng.ipynb"
   ]
  },
  {
   "cell_type": "code",
   "execution_count": null,
   "metadata": {},
   "outputs": [],
   "source": [
    "from statsmodels.tsa.statespace.varmax import VARMAX\n",
    "from statsmodels.tsa.vector_ar.var_model import VAR\n",
    "from  sklearn.metrics import mean_squared_error  as skl_mse"
   ]
  },
  {
   "cell_type": "code",
   "execution_count": null,
   "metadata": {},
   "outputs": [],
   "source": [
    "import mle.tsa as mle_tsa"
   ]
  },
  {
   "cell_type": "code",
   "execution_count": null,
   "metadata": {},
   "outputs": [],
   "source": [
    "OUTPATH = 'data/out/'\n",
    "OUTFILE = 'cons_gna95_var.xlsx'"
   ]
  },
  {
   "cell_type": "markdown",
   "metadata": {},
   "source": [
    "# Split Data"
   ]
  },
  {
   "cell_type": "code",
   "execution_count": null,
   "metadata": {},
   "outputs": [],
   "source": [
    "endog_seas_GNA95_train = data_train[['cons_GNA95_seas_adj_pct_change1', 'price_GNA95_seas_adj_pct_change1']].copy()\n",
    "endog_GNA95_train = data_train[['cons_GNA95_diff1_sdiff12', 'price_GNA95_diff1_sdiff12']].copy()\n",
    "\n",
    "endog_GNA95_train['cons_GNA95_diff1_sdiff12'] = endog_GNA95_train['cons_GNA95_diff1_sdiff12']/1e3\n",
    "exog_GNA95_train = data_train[['spot_GNA_pct_change1']].copy()"
   ]
  },
  {
   "cell_type": "code",
   "execution_count": null,
   "metadata": {},
   "outputs": [],
   "source": [
    "endog_seas_GNA95_test = data_test[['cons_GNA95_seas_adj_pct_change1', 'price_GNA95_seas_adj_pct_change1']].copy()\n",
    "endog_GNA95_test = data_test[['cons_GNA95_diff1_sdiff12', 'price_GNA95_diff1_sdiff12']].copy()\n",
    "\n",
    "endog_GNA95_test['cons_GNA95_diff1_sdiff12'] = endog_GNA95_test['cons_GNA95_diff1_sdiff12']/1e3\n",
    "exog_GNA95_test = data_test[['spot_GNA_pct_change1']].copy()"
   ]
  },
  {
   "cell_type": "markdown",
   "metadata": {},
   "source": [
    "# Model Building"
   ]
  },
  {
   "cell_type": "markdown",
   "metadata": {},
   "source": [
    "## Seasonal Model + VAR"
   ]
  },
  {
   "cell_type": "code",
   "execution_count": null,
   "metadata": {},
   "outputs": [],
   "source": [
    "res = VAR(endog=endog_seas_GNA95_train).select_order()\n",
    "res.summary()"
   ]
  },
  {
   "cell_type": "code",
   "execution_count": null,
   "metadata": {},
   "outputs": [],
   "source": [
    "mod_seas_GNA95 = VARMAX(endog_seas_GNA95_train, trend='n',order=(2, 0))\n",
    "res_seas_GNA95 = mod_seas_GNA95.fit(maxiter=10000)\n",
    "res_seas_GNA95.summary()"
   ]
  },
  {
   "cell_type": "code",
   "execution_count": null,
   "metadata": {},
   "outputs": [],
   "source": []
  },
  {
   "cell_type": "code",
   "execution_count": null,
   "metadata": {},
   "outputs": [],
   "source": [
    "res_seas_GNA95_upd, p_seas_gna95_test = mle_tsa.endog_forecast(\n",
    "    train_endog=endog_seas_GNA95_train[['cons_GNA95_seas_adj_pct_change1', 'price_GNA95_seas_adj_pct_change1']],\n",
    "    test_endog=endog_seas_GNA95_test[['cons_GNA95_seas_adj_pct_change1', 'price_GNA95_seas_adj_pct_change1']],\n",
    "    res=res_seas_GNA95)"
   ]
  },
  {
   "cell_type": "code",
   "execution_count": null,
   "metadata": {},
   "outputs": [],
   "source": [
    "ax = p_seas_gna95_test.plot(label='forecast', y = 'cons_GNA95_seas_adj_pct_change1')\n",
    "(data_test['cons_GNA95_seas_adj_pct_change1']).plot(label='actual', style='o', ax=ax)\n",
    "ax.fill_between(p_seas_gna95_test.index, p_seas_gna95_test['lower cons_GNA95_seas_adj_pct_change1'], p_seas_gna95_test['upper cons_GNA95_seas_adj_pct_change1'], color='k', alpha=0.1)\n",
    "plt.legend()\n",
    "plt.show()"
   ]
  },
  {
   "cell_type": "code",
   "execution_count": null,
   "metadata": {},
   "outputs": [],
   "source": [
    "p1_lst = []\n",
    "p1_up_ci_lst = []\n",
    "p1_lo_ci_lst = []\n",
    "p0 = data_train['cons_GNA95'].iloc[-1]/1e3\n",
    "p1_last = p0\n",
    "\n",
    "for idx, row in p_seas_gna95_test.iterrows():\n",
    "    seas = data_test.loc[idx, 'cons_GNA95_seas_comp']/1e3\n",
    "    p1 = (row['cons_GNA95_seas_adj_pct_change1'] * p0 + p0) + seas\n",
    "    p1_up = (row['upper cons_GNA95_seas_adj_pct_change1'] * p1_last + p1_last) + seas\n",
    "    p1_lo = (row['lower cons_GNA95_seas_adj_pct_change1'] * p1_last + p1_last) + seas\n",
    "    p0 = data_test.loc[idx, 'cons_GNA95']/1e3\n",
    "    p1_last = p1\n",
    "    p1_lst.append(p1)\n",
    "    p1_up_ci_lst.append(p1_up)\n",
    "    p1_lo_ci_lst.append(p1_lo)\n",
    "    "
   ]
  },
  {
   "cell_type": "code",
   "execution_count": null,
   "metadata": {},
   "outputs": [],
   "source": [
    "p_seas_gna95_test['p_cons_GNA95'] = np.array(p1_lst)*1e3\n",
    "p_seas_gna95_test['upper p_cons_GNA95'] = np.array(p1_up_ci_lst)*1e3\n",
    "p_seas_gna95_test['lower p_cons_GNA95'] = np.array(p1_lo_ci_lst)*1e3"
   ]
  },
  {
   "cell_type": "code",
   "execution_count": null,
   "metadata": {},
   "outputs": [],
   "source": [
    "ax = p_seas_gna95_test.plot(y= 'p_cons_GNA95')\n",
    "data_test.plot(y= 'cons_GNA95', style='o', ax=ax)\n",
    "plt.show()"
   ]
  },
  {
   "cell_type": "markdown",
   "metadata": {},
   "source": [
    "## VAR Only"
   ]
  },
  {
   "cell_type": "code",
   "execution_count": null,
   "metadata": {},
   "outputs": [],
   "source": [
    "res = VAR(endog=endog_GNA95_train).select_order()\n",
    "res.summary()"
   ]
  },
  {
   "cell_type": "code",
   "execution_count": null,
   "metadata": {},
   "outputs": [],
   "source": [
    "mod_GNA95 = VARMAX(endog_GNA95_train, trend='n', order=(2, 0))\n",
    "res_GNA95 = mod_GNA95.fit(maxiter=10000)\n",
    "res_GNA95.summary()"
   ]
  },
  {
   "cell_type": "code",
   "execution_count": null,
   "metadata": {},
   "outputs": [],
   "source": [
    "mod_GNA95 = VARMAX(endog_GNA95_train, trend='n', order=(1, 0))\n",
    "res_GNA95 = mod_GNA95.fit(maxiter=10000)\n",
    "res_GNA95.summary()"
   ]
  },
  {
   "cell_type": "markdown",
   "metadata": {},
   "source": [
    "## Model Diagnostics"
   ]
  },
  {
   "cell_type": "code",
   "execution_count": null,
   "metadata": {},
   "outputs": [],
   "source": [
    "res_GNA95.plot_diagnostics(figsize=(16,16))\n",
    "plt.show()"
   ]
  },
  {
   "cell_type": "markdown",
   "metadata": {},
   "source": [
    "## Prediction"
   ]
  },
  {
   "cell_type": "code",
   "execution_count": null,
   "metadata": {},
   "outputs": [],
   "source": [
    "p_gna95_train = res_GNA95.predict()[['cons_GNA95_diff1_sdiff12']]\n",
    "p_gna95_train[['lower cons_GNA95_diff1_sdiff12', 'upper cons_GNA95_diff1_sdiff12']] = res_GNA95.get_prediction().conf_int()[['lower cons_GNA95_diff1_sdiff12', 'upper cons_GNA95_diff1_sdiff12']]"
   ]
  },
  {
   "cell_type": "code",
   "execution_count": null,
   "metadata": {},
   "outputs": [],
   "source": [
    "forecast_s = pd.Series(dtype=np.number)\n",
    "up_ci_s = pd.Series(dtype=np.number)\n",
    "lo_ci_s = pd.Series(dtype=np.number)\n",
    "\n",
    "for idx, row in p_gna95_train[13:].iterrows():\n",
    "    p1 = data.loc[idx - pd.DateOffset(months=1), 'cons_GNA95']/1e3\n",
    "    p12 = data.loc[idx - pd.DateOffset(months=12), 'cons_GNA95_diff1']/1e3\n",
    "    forecast = row['cons_GNA95_diff1_sdiff12'] + p1 + p12\n",
    "    up = row['upper cons_GNA95_diff1_sdiff12'] + p1 + p12\n",
    "    lo = row['lower cons_GNA95_diff1_sdiff12'] + p1 + p12\n",
    "    forecast_s[idx] = forecast\n",
    "    up_ci_s[idx] = up\n",
    "    lo_ci_s[idx] = lo"
   ]
  },
  {
   "cell_type": "code",
   "execution_count": null,
   "metadata": {},
   "outputs": [],
   "source": [
    "p_gna95_train['p_cons_GNA95'] = forecast_s\n",
    "p_gna95_train['lower p_cons_GNA95'] = up_ci_s\n",
    "p_gna95_train['upper p_cons_GNA95'] = lo_ci_s\n",
    "p_gna95_train = p_gna95_train[['p_cons_GNA95', 'lower p_cons_GNA95', 'upper p_cons_GNA95']]*1e3\n",
    "p_gna95_train['cons_GNA95'] = data_train['cons_GNA95']\n",
    "p_gna95_train.index = p_gna95_train.index.date\n",
    "p_gna95_train['model'] = 'var'\n",
    "p_gna95_train['split'] = 'train'"
   ]
  },
  {
   "cell_type": "markdown",
   "metadata": {},
   "source": [
    "# Forecast"
   ]
  },
  {
   "cell_type": "code",
   "execution_count": null,
   "metadata": {},
   "outputs": [],
   "source": [
    "res_GNA95_upd, p_gna95_test = mle_tsa.endog_forecast(\n",
    "    train_endog=endog_GNA95_train[['cons_GNA95_diff1_sdiff12', 'price_GNA95_diff1_sdiff12']],\n",
    "    test_endog=endog_GNA95_test[['cons_GNA95_diff1_sdiff12', 'price_GNA95_diff1_sdiff12']],\n",
    "    res=res_GNA95)"
   ]
  },
  {
   "cell_type": "code",
   "execution_count": null,
   "metadata": {},
   "outputs": [],
   "source": [
    "fig, axs = plt.subplots(2,1, sharex=True)\n",
    "\n",
    "ax=axs[0]\n",
    "p_gna95_test.plot(y='cons_GNA95_diff1_sdiff12', label='cons diff forecast', ax=ax)\n",
    "ax.fill_between(p_gna95_test.index, p_gna95_test['lower cons_GNA95_diff1_sdiff12'], p_gna95_test['upper cons_GNA95_diff1_sdiff12'],  color='k', alpha=0.1)\n",
    "endog_GNA95_test.plot(y='cons_GNA95_diff1_sdiff12', style='o', label='cons diff actual', ax=ax)\n",
    "\n",
    "ax=axs[1]\n",
    "p_gna95_test.plot(y='price_GNA95_diff1_sdiff12', label='price diff forecast', ax=ax)\n",
    "ax.fill_between(p_gna95_test.index, p_gna95_test['lower price_GNA95_diff1_sdiff12'], p_gna95_test['upper price_GNA95_diff1_sdiff12'], color='k', alpha=0.1)\n",
    "endog_GNA95_test.plot(y='price_GNA95_diff1_sdiff12', label='price diff actual',style='o', ax=ax)\n",
    "plt.show()"
   ]
  },
  {
   "cell_type": "code",
   "execution_count": null,
   "metadata": {},
   "outputs": [],
   "source": [
    "forecast_lst = []\n",
    "up_ci_lst = []\n",
    "lo_ci_lst = []\n",
    "\n",
    "for idx, row in p_gna95_test.iterrows():\n",
    "    p1 = data.loc[idx - pd.DateOffset(months=1), 'cons_GNA95']/1e3\n",
    "    p12 = data.loc[idx - pd.DateOffset(months=12), 'cons_GNA95_diff1']/1e3\n",
    "    forecast = row['cons_GNA95_diff1_sdiff12'] + p1 + p12\n",
    "    up = row['upper cons_GNA95_diff1_sdiff12'] + p1 + p12\n",
    "    lo = row['lower cons_GNA95_diff1_sdiff12'] + p1 + p12\n",
    "    forecast_lst.append(forecast)\n",
    "    up_ci_lst.append(up)\n",
    "    lo_ci_lst.append(lo)"
   ]
  },
  {
   "cell_type": "code",
   "execution_count": null,
   "metadata": {},
   "outputs": [],
   "source": [
    "p_gna95_test['p_cons_GNA95'] = np.array(forecast_lst)*1e3\n",
    "p_gna95_test['lower p_cons_GNA95'] = np.array(up_ci_lst)*1e3\n",
    "p_gna95_test['upper p_cons_GNA95'] = np.array(lo_ci_lst)*1e3"
   ]
  },
  {
   "cell_type": "code",
   "execution_count": null,
   "metadata": {},
   "outputs": [],
   "source": [
    "ax = p_gna95_test.plot(y= 'p_cons_GNA95', label='forecast')\n",
    "data_test.plot(y='cons_GNA95', style='o', label='actual', ax=ax)\n",
    "ax.fill_between(p_gna95_test.index, p_gna95_test['lower p_cons_GNA95'], p_gna95_test['upper p_cons_GNA95'], color='k', alpha=0.1)\n",
    "plt.suptitle(\"Forecasting Consumo GNA95\")\n",
    "plt.ylabel('t')\n",
    "plt.show()"
   ]
  },
  {
   "cell_type": "markdown",
   "metadata": {},
   "source": [
    "# Model Assessment"
   ]
  },
  {
   "cell_type": "code",
   "execution_count": null,
   "metadata": {},
   "outputs": [],
   "source": [
    "p_gna95_test['model'] = 'var'\n",
    "p_gna95_test['split'] = 'test'\n",
    "p_gna95_test.index = p_gna95_test.index.date\n",
    "p_gna95_test['cons_GNA95'] = data_test['cons_GNA95']"
   ]
  },
  {
   "cell_type": "code",
   "execution_count": null,
   "metadata": {},
   "outputs": [],
   "source": [
    "skl_mse(p_seas_gna95_test['cons_GNA95_seas_adj_pct_change1'], endog_seas_GNA95_test['cons_GNA95_seas_adj_pct_change1'])**0.5"
   ]
  },
  {
   "cell_type": "code",
   "execution_count": null,
   "metadata": {},
   "outputs": [],
   "source": [
    "skl_mse(p_gna95_test['cons_GNA95_diff1_sdiff12'], endog_GNA95_test['cons_GNA95_diff1_sdiff12'])**0.5"
   ]
  },
  {
   "cell_type": "code",
   "execution_count": null,
   "metadata": {},
   "outputs": [],
   "source": [
    "mle_tsa.compute_ape(data_test['cons_GNA95'], p_seas_gna95_test['p_cons_GNA95'], ).mean()"
   ]
  },
  {
   "cell_type": "code",
   "execution_count": null,
   "metadata": {},
   "outputs": [],
   "source": [
    "mle_tsa.compute_ape( data_test['cons_GNA95'], p_gna95_test['p_cons_GNA95']).mean()"
   ]
  },
  {
   "cell_type": "code",
   "execution_count": null,
   "metadata": {},
   "outputs": [],
   "source": [
    "select_cols = ['model', 'split', 'cons_GNA95', 'p_cons_GNA95', 'lower p_cons_GNA95', 'upper p_cons_GNA95']\n",
    "\n",
    "pd.concat([p_gna95_train, p_gna95_test], axis=0)[select_cols].to_excel(OUTPATH + OUTFILE, index_label='Date')"
   ]
  },
  {
   "cell_type": "code",
   "execution_count": null,
   "metadata": {},
   "outputs": [],
   "source": []
  }
 ],
 "metadata": {
  "kernelspec": {
   "display_name": "Python 3",
   "language": "python",
   "name": "python3"
  },
  "language_info": {
   "codemirror_mode": {
    "name": "ipython",
    "version": 3
   },
   "file_extension": ".py",
   "mimetype": "text/x-python",
   "name": "python",
   "nbconvert_exporter": "python",
   "pygments_lexer": "ipython3",
   "version": "3.6.10"
  },
  "toc-autonumbering": true
 },
 "nbformat": 4,
 "nbformat_minor": 4
}
