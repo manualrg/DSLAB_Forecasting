{
 "cells": [
  {
   "cell_type": "code",
   "execution_count": 1,
   "metadata": {},
   "outputs": [],
   "source": [
    "%%capture\n",
    "%run 02_FeatEng.ipynb"
   ]
  },
  {
   "cell_type": "code",
   "execution_count": 2,
   "metadata": {},
   "outputs": [],
   "source": [
    "from statsmodels.tsa.statespace.varmax import VARMAX\n",
    "from statsmodels.tsa.vector_ar.var_model import VAR\n",
    "from  sklearn.metrics import mean_squared_error  as skl_mse"
   ]
  },
  {
   "cell_type": "code",
   "execution_count": 3,
   "metadata": {},
   "outputs": [
    {
     "name": "stderr",
     "output_type": "stream",
     "text": [
      "Importing plotly failed. Interactive plots will not work.\n"
     ]
    }
   ],
   "source": [
    "import mle.tsa as mle_tsa"
   ]
  },
  {
   "cell_type": "code",
   "execution_count": 4,
   "metadata": {},
   "outputs": [],
   "source": [
    "OUTPATH = 'data/out/'\n",
    "OUTFILE = 'cons_gna95_test_var.xlsx'"
   ]
  },
  {
   "cell_type": "markdown",
   "metadata": {},
   "source": [
    "# Split Data"
   ]
  },
  {
   "cell_type": "code",
   "execution_count": 5,
   "metadata": {},
   "outputs": [],
   "source": [
    "endog_seas_GNA95_train = data_train[['cons_GNA95_seas_adj_pct_change1', 'price_GNA95_seas_adj_pct_change1']].copy()\n",
    "endog_GNA95_train = data_train[['cons_GNA95_diff1_sdiff12', 'price_GNA95_diff1_sdiff12']].copy()\n",
    "\n",
    "endog_GNA95_train['cons_GNA95_diff1_sdiff12'] = endog_GNA95_train['cons_GNA95_diff1_sdiff12']/1e3\n",
    "exog_GNA95_train = data_train[['spot_GNA_pct_change1']].copy()"
   ]
  },
  {
   "cell_type": "code",
   "execution_count": 6,
   "metadata": {},
   "outputs": [],
   "source": [
    "endog_seas_GNA95_test = data_test[['cons_GNA95_seas_adj_pct_change1', 'price_GNA95_seas_adj_pct_change1']].copy()\n",
    "endog_GNA95_test = data_test[['cons_GNA95_diff1_sdiff12', 'price_GNA95_diff1_sdiff12']].copy()\n",
    "\n",
    "endog_GNA95_test['cons_GNA95_diff1_sdiff12'] = endog_GNA95_test['cons_GNA95_diff1_sdiff12']/1e3\n",
    "exog_GNA95_test = data_test[['spot_GNA_pct_change1']].copy()"
   ]
  },
  {
   "cell_type": "markdown",
   "metadata": {},
   "source": [
    "# Model Building"
   ]
  },
  {
   "cell_type": "markdown",
   "metadata": {},
   "source": [
    "## Seasonal Model + VAR"
   ]
  },
  {
   "cell_type": "code",
   "execution_count": 7,
   "metadata": {},
   "outputs": [
    {
     "data": {
      "text/html": [
       "<table class=\"simpletable\">\n",
       "<caption>VAR Order Selection (* highlights the minimums)</caption>\n",
       "<tr>\n",
       "   <td></td>      <th>AIC</th>         <th>BIC</th>         <th>FPE</th>        <th>HQIC</th>    \n",
       "</tr>\n",
       "<tr>\n",
       "  <th>0</th>  <td>    -14.11</td>  <td>    -14.06</td>  <td> 7.443e-07</td>  <td>    -14.09</td> \n",
       "</tr>\n",
       "<tr>\n",
       "  <th>1</th>  <td>    -14.48</td>  <td>    -14.35</td>  <td> 5.123e-07</td>  <td>    -14.43</td> \n",
       "</tr>\n",
       "<tr>\n",
       "  <th>2</th>  <td>    -14.60*</td> <td>    -14.37*</td> <td> 4.556e-07*</td> <td>    -14.51*</td>\n",
       "</tr>\n",
       "<tr>\n",
       "  <th>3</th>  <td>    -14.59</td>  <td>    -14.27</td>  <td> 4.605e-07</td>  <td>    -14.46</td> \n",
       "</tr>\n",
       "<tr>\n",
       "  <th>4</th>  <td>    -14.56</td>  <td>    -14.14</td>  <td> 4.759e-07</td>  <td>    -14.39</td> \n",
       "</tr>\n",
       "<tr>\n",
       "  <th>5</th>  <td>    -14.51</td>  <td>    -14.00</td>  <td> 5.016e-07</td>  <td>    -14.30</td> \n",
       "</tr>\n",
       "<tr>\n",
       "  <th>6</th>  <td>    -14.50</td>  <td>    -13.90</td>  <td> 5.042e-07</td>  <td>    -14.26</td> \n",
       "</tr>\n",
       "<tr>\n",
       "  <th>7</th>  <td>    -14.45</td>  <td>    -13.76</td>  <td> 5.306e-07</td>  <td>    -14.17</td> \n",
       "</tr>\n",
       "<tr>\n",
       "  <th>8</th>  <td>    -14.49</td>  <td>    -13.70</td>  <td> 5.138e-07</td>  <td>    -14.16</td> \n",
       "</tr>\n",
       "<tr>\n",
       "  <th>9</th>  <td>    -14.56</td>  <td>    -13.67</td>  <td> 4.792e-07</td>  <td>    -14.20</td> \n",
       "</tr>\n",
       "<tr>\n",
       "  <th>10</th> <td>    -14.50</td>  <td>    -13.53</td>  <td> 5.066e-07</td>  <td>    -14.11</td> \n",
       "</tr>\n",
       "<tr>\n",
       "  <th>11</th> <td>    -14.48</td>  <td>    -13.41</td>  <td> 5.178e-07</td>  <td>    -14.05</td> \n",
       "</tr>\n",
       "<tr>\n",
       "  <th>12</th> <td>    -14.43</td>  <td>    -13.27</td>  <td> 5.487e-07</td>  <td>    -13.96</td> \n",
       "</tr>\n",
       "<tr>\n",
       "  <th>13</th> <td>    -14.40</td>  <td>    -13.14</td>  <td> 5.688e-07</td>  <td>    -13.89</td> \n",
       "</tr>\n",
       "</table>"
      ],
      "text/plain": [
       "<class 'statsmodels.iolib.table.SimpleTable'>"
      ]
     },
     "execution_count": 7,
     "metadata": {},
     "output_type": "execute_result"
    }
   ],
   "source": [
    "res = VAR(endog=endog_seas_GNA95_train).select_order()\n",
    "res.summary()"
   ]
  },
  {
   "cell_type": "code",
   "execution_count": 8,
   "metadata": {},
   "outputs": [
    {
     "data": {
      "text/html": [
       "<table class=\"simpletable\">\n",
       "<caption>Statespace Model Results</caption>\n",
       "<tr>\n",
       "  <th>Dep. Variable:</th>   <td>['cons_GNA95_seas_adj_pct_change1', 'price_GNA95_seas_adj_pct_change1']</td> <th>  No. Observations:  </th>    <td>133</td>   \n",
       "</tr>\n",
       "<tr>\n",
       "  <th>Model:</th>                                           <td>VAR(2)</td>                                  <th>  Log Likelihood     </th>  <td>597.826</td> \n",
       "</tr>\n",
       "<tr>\n",
       "  <th>Date:</th>                                       <td>Thu, 25 Jun 2020</td>                             <th>  AIC                </th> <td>-1173.652</td>\n",
       "</tr>\n",
       "<tr>\n",
       "  <th>Time:</th>                                           <td>22:48:22</td>                                 <th>  BIC                </th> <td>-1141.858</td>\n",
       "</tr>\n",
       "<tr>\n",
       "  <th>Sample:</th>                                        <td>02-01-2008</td>                                <th>  HQIC               </th> <td>-1160.732</td>\n",
       "</tr>\n",
       "<tr>\n",
       "  <th></th>                                              <td>- 02-01-2019</td>                               <th>                     </th>     <td> </td>    \n",
       "</tr>\n",
       "<tr>\n",
       "  <th>Covariance Type:</th>                                   <td>opg</td>                                   <th>                     </th>     <td> </td>    \n",
       "</tr>\n",
       "</table>\n",
       "<table class=\"simpletable\">\n",
       "<tr>\n",
       "  <th>Ljung-Box (Q):</th>          <td>93.46, 54.63</td> <th>  Jarque-Bera (JB):  </th>  <td>1.66, 4.91</td> \n",
       "</tr>\n",
       "<tr>\n",
       "  <th>Prob(Q):</th>                 <td>0.00, 0.06</td>  <th>  Prob(JB):          </th>  <td>0.44, 0.09</td> \n",
       "</tr>\n",
       "<tr>\n",
       "  <th>Heteroskedasticity (H):</th>  <td>0.77, 0.52</td>  <th>  Skew:              </th> <td>-0.27, -0.22</td>\n",
       "</tr>\n",
       "<tr>\n",
       "  <th>Prob(H) (two-sided):</th>     <td>0.38, 0.03</td>  <th>  Kurtosis:          </th>  <td>3.08, 3.83</td> \n",
       "</tr>\n",
       "</table>\n",
       "<table class=\"simpletable\">\n",
       "<caption>Results for equation cons_GNA95_seas_adj_pct_change1</caption>\n",
       "<tr>\n",
       "                   <td></td>                      <th>coef</th>     <th>std err</th>      <th>z</th>      <th>P>|z|</th>  <th>[0.025</th>    <th>0.975]</th>  \n",
       "</tr>\n",
       "<tr>\n",
       "  <th>L1.cons_GNA95_seas_adj_pct_change1</th>  <td>   -0.7462</td> <td>    0.083</td> <td>   -9.018</td> <td> 0.000</td> <td>   -0.908</td> <td>   -0.584</td>\n",
       "</tr>\n",
       "<tr>\n",
       "  <th>L1.price_GNA95_seas_adj_pct_change1</th> <td>   -0.1968</td> <td>    0.088</td> <td>   -2.237</td> <td> 0.025</td> <td>   -0.369</td> <td>   -0.024</td>\n",
       "</tr>\n",
       "<tr>\n",
       "  <th>L2.cons_GNA95_seas_adj_pct_change1</th>  <td>   -0.3681</td> <td>    0.087</td> <td>   -4.215</td> <td> 0.000</td> <td>   -0.539</td> <td>   -0.197</td>\n",
       "</tr>\n",
       "<tr>\n",
       "  <th>L2.price_GNA95_seas_adj_pct_change1</th> <td>    0.0010</td> <td>    0.106</td> <td>    0.010</td> <td> 0.992</td> <td>   -0.206</td> <td>    0.208</td>\n",
       "</tr>\n",
       "</table>\n",
       "<table class=\"simpletable\">\n",
       "<caption>Results for equation price_GNA95_seas_adj_pct_change1</caption>\n",
       "<tr>\n",
       "                   <td></td>                      <th>coef</th>     <th>std err</th>      <th>z</th>      <th>P>|z|</th>  <th>[0.025</th>    <th>0.975]</th>  \n",
       "</tr>\n",
       "<tr>\n",
       "  <th>L1.cons_GNA95_seas_adj_pct_change1</th>  <td>    0.0996</td> <td>    0.092</td> <td>    1.082</td> <td> 0.279</td> <td>   -0.081</td> <td>    0.280</td>\n",
       "</tr>\n",
       "<tr>\n",
       "  <th>L1.price_GNA95_seas_adj_pct_change1</th> <td>    0.4661</td> <td>    0.083</td> <td>    5.640</td> <td> 0.000</td> <td>    0.304</td> <td>    0.628</td>\n",
       "</tr>\n",
       "<tr>\n",
       "  <th>L2.cons_GNA95_seas_adj_pct_change1</th>  <td>    0.0582</td> <td>    0.092</td> <td>    0.632</td> <td> 0.528</td> <td>   -0.122</td> <td>    0.239</td>\n",
       "</tr>\n",
       "<tr>\n",
       "  <th>L2.price_GNA95_seas_adj_pct_change1</th> <td>   -0.1681</td> <td>    0.082</td> <td>   -2.048</td> <td> 0.041</td> <td>   -0.329</td> <td>   -0.007</td>\n",
       "</tr>\n",
       "</table>\n",
       "<table class=\"simpletable\">\n",
       "<caption>Error covariance matrix</caption>\n",
       "<tr>\n",
       "                                      <td></td>                                         <th>coef</th>     <th>std err</th>      <th>z</th>      <th>P>|z|</th>  <th>[0.025</th>    <th>0.975]</th>  \n",
       "</tr>\n",
       "<tr>\n",
       "  <th>sqrt.var.cons_GNA95_seas_adj_pct_change1</th>                                  <td>    0.0253</td> <td>    0.002</td> <td>   15.569</td> <td> 0.000</td> <td>    0.022</td> <td>    0.028</td>\n",
       "</tr>\n",
       "<tr>\n",
       "  <th>sqrt.cov.cons_GNA95_seas_adj_pct_change1.price_GNA95_seas_adj_pct_change1</th> <td>   -0.0018</td> <td>    0.003</td> <td>   -0.668</td> <td> 0.504</td> <td>   -0.007</td> <td>    0.003</td>\n",
       "</tr>\n",
       "<tr>\n",
       "  <th>sqrt.var.price_GNA95_seas_adj_pct_change1</th>                                 <td>    0.0257</td> <td>    0.002</td> <td>   16.834</td> <td> 0.000</td> <td>    0.023</td> <td>    0.029</td>\n",
       "</tr>\n",
       "</table><br/><br/>Warnings:<br/>[1] Covariance matrix calculated using the outer product of gradients (complex-step)."
      ],
      "text/plain": [
       "<class 'statsmodels.iolib.summary.Summary'>\n",
       "\"\"\"\n",
       "                                                      Statespace Model Results                                                     \n",
       "===================================================================================================================================\n",
       "Dep. Variable:     ['cons_GNA95_seas_adj_pct_change1', 'price_GNA95_seas_adj_pct_change1']   No. Observations:                  133\n",
       "Model:                                                                              VAR(2)   Log Likelihood                 597.826\n",
       "Date:                                                                     Thu, 25 Jun 2020   AIC                          -1173.652\n",
       "Time:                                                                             22:48:22   BIC                          -1141.858\n",
       "Sample:                                                                         02-01-2008   HQIC                         -1160.732\n",
       "                                                                              - 02-01-2019                                         \n",
       "Covariance Type:                                                                       opg                                         \n",
       "===================================================================================\n",
       "Ljung-Box (Q):                93.46, 54.63   Jarque-Bera (JB):           1.66, 4.91\n",
       "Prob(Q):                        0.00, 0.06   Prob(JB):                   0.44, 0.09\n",
       "Heteroskedasticity (H):         0.77, 0.52   Skew:                     -0.27, -0.22\n",
       "Prob(H) (two-sided):            0.38, 0.03   Kurtosis:                   3.08, 3.83\n",
       "                          Results for equation cons_GNA95_seas_adj_pct_change1                         \n",
       "=======================================================================================================\n",
       "                                          coef    std err          z      P>|z|      [0.025      0.975]\n",
       "-------------------------------------------------------------------------------------------------------\n",
       "L1.cons_GNA95_seas_adj_pct_change1     -0.7462      0.083     -9.018      0.000      -0.908      -0.584\n",
       "L1.price_GNA95_seas_adj_pct_change1    -0.1968      0.088     -2.237      0.025      -0.369      -0.024\n",
       "L2.cons_GNA95_seas_adj_pct_change1     -0.3681      0.087     -4.215      0.000      -0.539      -0.197\n",
       "L2.price_GNA95_seas_adj_pct_change1     0.0010      0.106      0.010      0.992      -0.206       0.208\n",
       "                         Results for equation price_GNA95_seas_adj_pct_change1                         \n",
       "=======================================================================================================\n",
       "                                          coef    std err          z      P>|z|      [0.025      0.975]\n",
       "-------------------------------------------------------------------------------------------------------\n",
       "L1.cons_GNA95_seas_adj_pct_change1      0.0996      0.092      1.082      0.279      -0.081       0.280\n",
       "L1.price_GNA95_seas_adj_pct_change1     0.4661      0.083      5.640      0.000       0.304       0.628\n",
       "L2.cons_GNA95_seas_adj_pct_change1      0.0582      0.092      0.632      0.528      -0.122       0.239\n",
       "L2.price_GNA95_seas_adj_pct_change1    -0.1681      0.082     -2.048      0.041      -0.329      -0.007\n",
       "                                                           Error covariance matrix                                                           \n",
       "=============================================================================================================================================\n",
       "                                                                                coef    std err          z      P>|z|      [0.025      0.975]\n",
       "---------------------------------------------------------------------------------------------------------------------------------------------\n",
       "sqrt.var.cons_GNA95_seas_adj_pct_change1                                      0.0253      0.002     15.569      0.000       0.022       0.028\n",
       "sqrt.cov.cons_GNA95_seas_adj_pct_change1.price_GNA95_seas_adj_pct_change1    -0.0018      0.003     -0.668      0.504      -0.007       0.003\n",
       "sqrt.var.price_GNA95_seas_adj_pct_change1                                     0.0257      0.002     16.834      0.000       0.023       0.029\n",
       "=============================================================================================================================================\n",
       "\n",
       "Warnings:\n",
       "[1] Covariance matrix calculated using the outer product of gradients (complex-step).\n",
       "\"\"\""
      ]
     },
     "execution_count": 8,
     "metadata": {},
     "output_type": "execute_result"
    }
   ],
   "source": [
    "mod_seas_GNA95 = VARMAX(endog_seas_GNA95_train, trend='n',order=(2, 0))\n",
    "res_seas_GNA95 = mod_seas_GNA95.fit(maxiter=10000)\n",
    "res_seas_GNA95.summary()"
   ]
  },
  {
   "cell_type": "code",
   "execution_count": null,
   "metadata": {},
   "outputs": [],
   "source": []
  },
  {
   "cell_type": "code",
   "execution_count": 9,
   "metadata": {},
   "outputs": [],
   "source": [
    "res_seas_GNA95_upd, p_seas_gna95_test = mle_tsa.endog_forecast(\n",
    "    train_endog=endog_seas_GNA95_train[['cons_GNA95_seas_adj_pct_change1', 'price_GNA95_seas_adj_pct_change1']],\n",
    "    test_endog=endog_seas_GNA95_test[['cons_GNA95_seas_adj_pct_change1', 'price_GNA95_seas_adj_pct_change1']],\n",
    "    res=res_seas_GNA95)"
   ]
  },
  {
   "cell_type": "code",
   "execution_count": 10,
   "metadata": {},
   "outputs": [
    {
     "data": {
      "image/png": "[encoded data removed]",
      "text/plain": [
       "<Figure size 432x288 with 1 Axes>"
      ]
     },
     "metadata": {
      "needs_background": "light"
     },
     "output_type": "display_data"
    }
   ],
   "source": [
    "ax = p_seas_gna95_test.plot(label='forecast', y = 'cons_GNA95_seas_adj_pct_change1')\n",
    "(data_test['cons_GNA95_seas_adj_pct_change1']).plot(label='actual', style='o', ax=ax)\n",
    "ax.fill_between(p_seas_gna95_test.index, p_seas_gna95_test['lower cons_GNA95_seas_adj_pct_change1'], p_seas_gna95_test['upper cons_GNA95_seas_adj_pct_change1'], color='k', alpha=0.1)\n",
    "plt.legend()\n",
    "plt.show()"
   ]
  },
  {
   "cell_type": "code",
   "execution_count": 11,
   "metadata": {},
   "outputs": [],
   "source": [
    "p1_lst = []\n",
    "p1_up_ci_lst = []\n",
    "p1_lo_ci_lst = []\n",
    "p0 = data_train['cons_GNA95'].iloc[-1]/1e3\n",
    "p1_last = p0\n",
    "\n",
    "for idx, row in p_seas_gna95_test.iterrows():\n",
    "    seas = data_test.loc[idx, 'cons_GNA95_seas_comp']/1e3\n",
    "    p1 = (row['cons_GNA95_seas_adj_pct_change1'] * p0 + p0) + seas\n",
    "    p1_up = (row['upper cons_GNA95_seas_adj_pct_change1'] * p1_last + p1_last) + seas\n",
    "    p1_lo = (row['lower cons_GNA95_seas_adj_pct_change1'] * p1_last + p1_last) + seas\n",
    "    p0 = data_test.loc[idx, 'cons_GNA95']/1e3\n",
    "    p1_last = p1\n",
    "    p1_lst.append(p1)\n",
    "    p1_up_ci_lst.append(p1_up)\n",
    "    p1_lo_ci_lst.append(p1_lo)\n",
    "    "
   ]
  },
  {
   "cell_type": "code",
   "execution_count": 12,
   "metadata": {},
   "outputs": [],
   "source": [
    "p_seas_gna95_test['p_cons_GNA95'] = np.array(p1_lst)*1e3\n",
    "p_seas_gna95_test['upper p_cons_GNA95'] = np.array(p1_up_ci_lst)*1e3\n",
    "p_seas_gna95_test['lower p_cons_GNA95'] = np.array(p1_lo_ci_lst)*1e3"
   ]
  },
  {
   "cell_type": "code",
   "execution_count": 13,
   "metadata": {},
   "outputs": [
    {
     "data": {
      "image/png": "[encoded data removed]",
      "text/plain": [
       "<Figure size 432x288 with 1 Axes>"
      ]
     },
     "metadata": {
      "needs_background": "light"
     },
     "output_type": "display_data"
    }
   ],
   "source": [
    "ax = p_seas_gna95_test.plot(y= 'p_cons_GNA95')\n",
    "data_test.plot(y= 'cons_GNA95', style='o', ax=ax)\n",
    "plt.show()"
   ]
  },
  {
   "cell_type": "markdown",
   "metadata": {},
   "source": [
    "## VAR Only"
   ]
  },
  {
   "cell_type": "code",
   "execution_count": 14,
   "metadata": {},
   "outputs": [
    {
     "data": {
      "text/html": [
       "<table class=\"simpletable\">\n",
       "<caption>Statespace Model Results</caption>\n",
       "<tr>\n",
       "  <th>Dep. Variable:</th>   <td>['cons_GNA95_diff1_sdiff12', 'price_GNA95_diff1_sdiff12']</td> <th>  No. Observations:  </th>    <td>133</td>  \n",
       "</tr>\n",
       "<tr>\n",
       "  <th>Model:</th>                                    <td>VAR(1)</td>                           <th>  Log Likelihood     </th> <td>-326.559</td>\n",
       "</tr>\n",
       "<tr>\n",
       "  <th>Date:</th>                                <td>Thu, 25 Jun 2020</td>                      <th>  AIC                </th>  <td>667.117</td>\n",
       "</tr>\n",
       "<tr>\n",
       "  <th>Time:</th>                                    <td>22:48:32</td>                          <th>  BIC                </th>  <td>687.350</td>\n",
       "</tr>\n",
       "<tr>\n",
       "  <th>Sample:</th>                                 <td>02-01-2008</td>                         <th>  HQIC               </th>  <td>675.339</td>\n",
       "</tr>\n",
       "<tr>\n",
       "  <th></th>                                       <td>- 02-01-2019</td>                        <th>                     </th>     <td> </td>   \n",
       "</tr>\n",
       "<tr>\n",
       "  <th>Covariance Type:</th>                            <td>opg</td>                            <th>                     </th>     <td> </td>   \n",
       "</tr>\n",
       "</table>\n",
       "<table class=\"simpletable\">\n",
       "<tr>\n",
       "  <th>Ljung-Box (Q):</th>          <td>138.81, 72.52</td> <th>  Jarque-Bera (JB):  </th>  <td>0.66, 1.45</td> \n",
       "</tr>\n",
       "<tr>\n",
       "  <th>Prob(Q):</th>                 <td>0.00, 0.00</td>   <th>  Prob(JB):          </th>  <td>0.72, 0.49</td> \n",
       "</tr>\n",
       "<tr>\n",
       "  <th>Heteroskedasticity (H):</th>  <td>0.58, 0.75</td>   <th>  Skew:              </th> <td>-0.03, -0.02</td>\n",
       "</tr>\n",
       "<tr>\n",
       "  <th>Prob(H) (two-sided):</th>     <td>0.08, 0.35</td>   <th>  Kurtosis:          </th>  <td>3.34, 3.51</td> \n",
       "</tr>\n",
       "</table>\n",
       "<table class=\"simpletable\">\n",
       "<caption>Results for equation cons_GNA95_diff1_sdiff12</caption>\n",
       "<tr>\n",
       "                <td></td>                  <th>coef</th>     <th>std err</th>      <th>z</th>      <th>P>|z|</th>  <th>[0.025</th>    <th>0.975]</th>  \n",
       "</tr>\n",
       "<tr>\n",
       "  <th>L1.cons_GNA95_diff1_sdiff12</th>  <td>   -0.5589</td> <td>    0.084</td> <td>   -6.677</td> <td> 0.000</td> <td>   -0.723</td> <td>   -0.395</td>\n",
       "</tr>\n",
       "<tr>\n",
       "  <th>L1.price_GNA95_diff1_sdiff12</th> <td>  -77.8497</td> <td>   31.342</td> <td>   -2.484</td> <td> 0.013</td> <td> -139.278</td> <td>  -16.421</td>\n",
       "</tr>\n",
       "</table>\n",
       "<table class=\"simpletable\">\n",
       "<caption>Results for equation price_GNA95_diff1_sdiff12</caption>\n",
       "<tr>\n",
       "                <td></td>                  <th>coef</th>     <th>std err</th>      <th>z</th>      <th>P>|z|</th>  <th>[0.025</th>    <th>0.975]</th>  \n",
       "</tr>\n",
       "<tr>\n",
       "  <th>L1.cons_GNA95_diff1_sdiff12</th>  <td>    0.0002</td> <td>    0.000</td> <td>    0.873</td> <td> 0.382</td> <td>   -0.000</td> <td>    0.001</td>\n",
       "</tr>\n",
       "<tr>\n",
       "  <th>L1.price_GNA95_diff1_sdiff12</th> <td>    0.3475</td> <td>    0.091</td> <td>    3.840</td> <td> 0.000</td> <td>    0.170</td> <td>    0.525</td>\n",
       "</tr>\n",
       "</table>\n",
       "<table class=\"simpletable\">\n",
       "<caption>Error covariance matrix</caption>\n",
       "<tr>\n",
       "                               <td></td>                                  <th>coef</th>     <th>std err</th>      <th>z</th>      <th>P>|z|</th>  <th>[0.025</th>    <th>0.975]</th>  \n",
       "</tr>\n",
       "<tr>\n",
       "  <th>sqrt.var.cons_GNA95_diff1_sdiff12</th>                           <td>   15.1020</td> <td>    0.879</td> <td>   17.183</td> <td> 0.000</td> <td>   13.379</td> <td>   16.825</td>\n",
       "</tr>\n",
       "<tr>\n",
       "  <th>sqrt.cov.cons_GNA95_diff1_sdiff12.price_GNA95_diff1_sdiff12</th> <td>   -0.0025</td> <td>    0.004</td> <td>   -0.598</td> <td> 0.550</td> <td>   -0.011</td> <td>    0.006</td>\n",
       "</tr>\n",
       "<tr>\n",
       "  <th>sqrt.var.price_GNA95_diff1_sdiff12</th>                          <td>    0.0452</td> <td>    0.003</td> <td>   16.626</td> <td> 0.000</td> <td>    0.040</td> <td>    0.051</td>\n",
       "</tr>\n",
       "</table><br/><br/>Warnings:<br/>[1] Covariance matrix calculated using the outer product of gradients (complex-step)."
      ],
      "text/plain": [
       "<class 'statsmodels.iolib.summary.Summary'>\n",
       "\"\"\"\n",
       "                                               Statespace Model Results                                              \n",
       "=====================================================================================================================\n",
       "Dep. Variable:     ['cons_GNA95_diff1_sdiff12', 'price_GNA95_diff1_sdiff12']   No. Observations:                  133\n",
       "Model:                                                                VAR(1)   Log Likelihood                -326.559\n",
       "Date:                                                       Thu, 25 Jun 2020   AIC                            667.117\n",
       "Time:                                                               22:48:32   BIC                            687.350\n",
       "Sample:                                                           02-01-2008   HQIC                           675.339\n",
       "                                                                - 02-01-2019                                         \n",
       "Covariance Type:                                                         opg                                         \n",
       "===================================================================================\n",
       "Ljung-Box (Q):               138.81, 72.52   Jarque-Bera (JB):           0.66, 1.45\n",
       "Prob(Q):                        0.00, 0.00   Prob(JB):                   0.72, 0.49\n",
       "Heteroskedasticity (H):         0.58, 0.75   Skew:                     -0.03, -0.02\n",
       "Prob(H) (two-sided):            0.08, 0.35   Kurtosis:                   3.34, 3.51\n",
       "                         Results for equation cons_GNA95_diff1_sdiff12                          \n",
       "================================================================================================\n",
       "                                   coef    std err          z      P>|z|      [0.025      0.975]\n",
       "------------------------------------------------------------------------------------------------\n",
       "L1.cons_GNA95_diff1_sdiff12     -0.5589      0.084     -6.677      0.000      -0.723      -0.395\n",
       "L1.price_GNA95_diff1_sdiff12   -77.8497     31.342     -2.484      0.013    -139.278     -16.421\n",
       "                         Results for equation price_GNA95_diff1_sdiff12                         \n",
       "================================================================================================\n",
       "                                   coef    std err          z      P>|z|      [0.025      0.975]\n",
       "------------------------------------------------------------------------------------------------\n",
       "L1.cons_GNA95_diff1_sdiff12      0.0002      0.000      0.873      0.382      -0.000       0.001\n",
       "L1.price_GNA95_diff1_sdiff12     0.3475      0.091      3.840      0.000       0.170       0.525\n",
       "                                                    Error covariance matrix                                                    \n",
       "===============================================================================================================================\n",
       "                                                                  coef    std err          z      P>|z|      [0.025      0.975]\n",
       "-------------------------------------------------------------------------------------------------------------------------------\n",
       "sqrt.var.cons_GNA95_diff1_sdiff12                              15.1020      0.879     17.183      0.000      13.379      16.825\n",
       "sqrt.cov.cons_GNA95_diff1_sdiff12.price_GNA95_diff1_sdiff12    -0.0025      0.004     -0.598      0.550      -0.011       0.006\n",
       "sqrt.var.price_GNA95_diff1_sdiff12                              0.0452      0.003     16.626      0.000       0.040       0.051\n",
       "===============================================================================================================================\n",
       "\n",
       "Warnings:\n",
       "[1] Covariance matrix calculated using the outer product of gradients (complex-step).\n",
       "\"\"\""
      ]
     },
     "execution_count": 14,
     "metadata": {},
     "output_type": "execute_result"
    }
   ],
   "source": [
    "mod_GNA95 = VARMAX(endog_GNA95_train, trend='n', order=(1, 0))\n",
    "res_GNA95 = mod_GNA95.fit(maxiter=10000)\n",
    "res_GNA95.summary()"
   ]
  },
  {
   "cell_type": "code",
   "execution_count": 15,
   "metadata": {},
   "outputs": [
    {
     "name": "stderr",
     "output_type": "stream",
     "text": [
      "C:\\Anaconda3\\lib\\site-packages\\statsmodels\\base\\model.py:568: ConvergenceWarning: Maximum Likelihood optimization failed to converge. Check mle_retvals\n",
      "  \"Check mle_retvals\", ConvergenceWarning)\n",
      "C:\\Anaconda3\\lib\\site-packages\\statsmodels\\base\\model.py:568: ConvergenceWarning: Maximum Likelihood optimization failed to converge. Check mle_retvals\n",
      "  \"Check mle_retvals\", ConvergenceWarning)\n"
     ]
    }
   ],
   "source": [
    "res_GNA95_upd, p_gna95_test = mle_tsa.endog_forecast(\n",
    "    train_endog=endog_GNA95_train[['cons_GNA95_diff1_sdiff12', 'price_GNA95_diff1_sdiff12']],\n",
    "    test_endog=endog_GNA95_test[['cons_GNA95_diff1_sdiff12', 'price_GNA95_diff1_sdiff12']],\n",
    "    res=res_GNA95)"
   ]
  },
  {
   "cell_type": "code",
   "execution_count": 16,
   "metadata": {},
   "outputs": [],
   "source": [
    "forecast_lst = []\n",
    "up_ci_lst = []\n",
    "lo_ci_lst = []\n",
    "\n",
    "for idx, row in p_gna95_test.iterrows():\n",
    "    p1 = data.loc[idx - pd.DateOffset(months=1), 'cons_GNA95']/1e3\n",
    "    p12 = data.loc[idx - pd.DateOffset(months=12), 'cons_GNA95_diff1']/1e3\n",
    "    forecast = row['cons_GNA95_diff1_sdiff12'] + p1 + p12\n",
    "    up = row['upper cons_GNA95_diff1_sdiff12'] + p1 + p12\n",
    "    lo = row['lower cons_GNA95_diff1_sdiff12'] + p1 + p12\n",
    "    forecast_lst.append(forecast)\n",
    "    up_ci_lst.append(up)\n",
    "    lo_ci_lst.append(lo)"
   ]
  },
  {
   "cell_type": "code",
   "execution_count": 17,
   "metadata": {},
   "outputs": [],
   "source": [
    "p_gna95_test['p_cons_GNA95'] = np.array(forecast_lst)*1e3\n",
    "p_gna95_test['lower p_cons_GNA95'] = np.array(up_ci_lst)*1e3\n",
    "p_gna95_test['upper p_cons_GNA95'] = np.array(lo_ci_lst)*1e3"
   ]
  },
  {
   "cell_type": "code",
   "execution_count": 18,
   "metadata": {},
   "outputs": [
    {
     "data": {
      "image/png": "[encoded data removed]",
      "text/plain": [
       "<Figure size 432x288 with 1 Axes>"
      ]
     },
     "metadata": {
      "needs_background": "light"
     },
     "output_type": "display_data"
    }
   ],
   "source": [
    "ax = p_gna95_test.plot(y= 'p_cons_GNA95')\n",
    "data_test.plot(y='cons_GNA95', style='o', ax=ax)\n",
    "ax.fill_between(p_gna95_test.index, p_gna95_test['lower p_cons_GNA95'], p_gna95_test['upper p_cons_GNA95'], color='k', alpha=0.1)\n",
    "plt.show()"
   ]
  },
  {
   "cell_type": "markdown",
   "metadata": {},
   "source": [
    "# Model Assessment"
   ]
  },
  {
   "cell_type": "code",
   "execution_count": 19,
   "metadata": {},
   "outputs": [],
   "source": [
    "p_gna95_test['model'] = 'var'\n",
    "p_gna95_test['cons_GNA95'] = data_test['cons_GNA95']"
   ]
  },
  {
   "cell_type": "code",
   "execution_count": 20,
   "metadata": {},
   "outputs": [],
   "source": [
    "select_cols = ['model', 'cons_GNA95', 'p_cons_GNA95', 'lower p_cons_GNA95', 'upper p_cons_GNA95']\n",
    "\n",
    "p_gna95_test.index = p_gna95_test.index.date\n",
    "p_gna95_test[select_cols].to_excel(OUTPATH + OUTFILE, index_label='Date')"
   ]
  },
  {
   "cell_type": "code",
   "execution_count": 21,
   "metadata": {},
   "outputs": [
    {
     "data": {
      "text/plain": [
       "0.02736115371832126"
      ]
     },
     "execution_count": 21,
     "metadata": {},
     "output_type": "execute_result"
    }
   ],
   "source": [
    "skl_mse(p_seas_gna95_test['cons_GNA95_seas_adj_pct_change1'], endog_seas_GNA95_test['cons_GNA95_seas_adj_pct_change1'])**0.5"
   ]
  },
  {
   "cell_type": "code",
   "execution_count": 22,
   "metadata": {},
   "outputs": [
    {
     "data": {
      "text/plain": [
       "12.56206137380075"
      ]
     },
     "execution_count": 22,
     "metadata": {},
     "output_type": "execute_result"
    }
   ],
   "source": [
    "skl_mse(p_gna95_test['cons_GNA95_diff1_sdiff12'], endog_GNA95_test['cons_GNA95_diff1_sdiff12'])**0.5"
   ]
  },
  {
   "cell_type": "code",
   "execution_count": 23,
   "metadata": {},
   "outputs": [
    {
     "data": {
      "text/plain": [
       "0.06554041873594305"
      ]
     },
     "execution_count": 23,
     "metadata": {},
     "output_type": "execute_result"
    }
   ],
   "source": [
    "mle_tsa.compute_ape(p_seas_gna95_test['p_cons_GNA95'], data_test['cons_GNA95']).mean()"
   ]
  },
  {
   "cell_type": "code",
   "execution_count": 24,
   "metadata": {},
   "outputs": [
    {
     "data": {
      "text/plain": [
       "0.026055248562752657"
      ]
     },
     "execution_count": 24,
     "metadata": {},
     "output_type": "execute_result"
    }
   ],
   "source": [
    "mle_tsa.compute_ape(p_gna95_test['p_cons_GNA95'], p_gna95_test['cons_GNA95']).mean()"
   ]
  },
  {
   "cell_type": "code",
   "execution_count": null,
   "metadata": {},
   "outputs": [],
   "source": []
  }
 ],
 "metadata": {
  "kernelspec": {
   "display_name": "Python 3",
   "language": "python",
   "name": "python3"
  },
  "language_info": {
   "codemirror_mode": {
    "name": "ipython",
    "version": 3
   },
   "file_extension": ".py",
   "mimetype": "text/x-python",
   "name": "python",
   "nbconvert_exporter": "python",
   "pygments_lexer": "ipython3",
   "version": "3.6.10"
  },
  "toc-autonumbering": true
 },
 "nbformat": 4,
 "nbformat_minor": 4
}
