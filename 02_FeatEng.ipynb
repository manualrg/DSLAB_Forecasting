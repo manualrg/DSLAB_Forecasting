{
 "cells": [
  {
   "cell_type": "code",
   "execution_count": null,
   "metadata": {},
   "outputs": [],
   "source": [
    "import numpy as np\n",
    "import pandas as pd\n",
    "import matplotlib.pyplot as plt\n",
    "import seaborn as sns\n",
    "import re"
   ]
  },
  {
   "cell_type": "code",
   "execution_count": null,
   "metadata": {},
   "outputs": [],
   "source": [
    "from statsmodels.graphics.tsaplots import plot_acf, plot_pacf\n",
    "from statsmodels.tsa.seasonal import seasonal_decompose"
   ]
  },
  {
   "cell_type": "code",
   "execution_count": null,
   "metadata": {},
   "outputs": [],
   "source": [
    "from sklearn.model_selection import TimeSeriesSplit"
   ]
  },
  {
   "cell_type": "code",
   "execution_count": null,
   "metadata": {},
   "outputs": [],
   "source": [
    "plt.style.use('seaborn')\n",
    "plt.rcParams.update({'figure.figsize': (16,8)})\n",
    "sns.set_context(\"talk\")"
   ]
  },
  {
   "cell_type": "code",
   "execution_count": null,
   "metadata": {},
   "outputs": [],
   "source": [
    "import os\n",
    "os.listdir('data')"
   ]
  },
  {
   "cell_type": "code",
   "execution_count": null,
   "metadata": {},
   "outputs": [],
   "source": [
    "INPATH = \"data/\"\n",
    "INFILE1 = \"cnmc_goa_gna.xlsx\""
   ]
  },
  {
   "cell_type": "code",
   "execution_count": null,
   "metadata": {},
   "outputs": [],
   "source": [
    "OUTPATH = 'data/out/'\n",
    "OUTFILE = 'cons_gna95_naive.xlsx'"
   ]
  },
  {
   "cell_type": "code",
   "execution_count": null,
   "metadata": {},
   "outputs": [],
   "source": [
    "data = pd.read_excel(INPATH+INFILE1, parse_dates=['Date'], index_col='Date')\n",
    "data.index.freq = 'MS'\n",
    "data.info()"
   ]
  },
  {
   "cell_type": "code",
   "execution_count": null,
   "metadata": {},
   "outputs": [],
   "source": [
    "cols = data.select_dtypes(include='number').columns.tolist()"
   ]
  },
  {
   "cell_type": "code",
   "execution_count": null,
   "metadata": {},
   "outputs": [],
   "source": [
    "re_cons = re.compile(r'^cons_')\n",
    "re_spot = re.compile(r'^spot_')\n",
    "re_price = re.compile(r'^price_')"
   ]
  },
  {
   "cell_type": "code",
   "execution_count": null,
   "metadata": {},
   "outputs": [],
   "source": [
    "ax = data.filter(regex=re_cons).plot(title='Consumption')\n",
    "ax.set_ylabel('(t)')\n",
    "plt.show()"
   ]
  },
  {
   "cell_type": "code",
   "execution_count": null,
   "metadata": {},
   "outputs": [],
   "source": [
    "data.filter(regex=re_spot).plot(title='spot prices')\n",
    "ax.set_ylabel('($/t)')\n",
    "plt.show()"
   ]
  },
  {
   "cell_type": "code",
   "execution_count": null,
   "metadata": {},
   "outputs": [],
   "source": [
    "data.filter(regex=re_price).plot(title='consumer prices')\n",
    "ax.set_ylabel('(€/l)')\n",
    "plt.show()"
   ]
  },
  {
   "cell_type": "markdown",
   "metadata": {},
   "source": [
    "# Basic feature engineering"
   ]
  },
  {
   "cell_type": "code",
   "execution_count": null,
   "metadata": {},
   "outputs": [],
   "source": [
    "cols_pct_change = []\n",
    "for col in cols:\n",
    "    data[f'{col}_pct_change1'] = data[col].pct_change()\n",
    "    data[f'{col}_diff1'] = data[col].diff()\n",
    "    data[f'{col}_diff1_sdiff12'] =  data[f'{col}_diff1'].diff(12)\n",
    "    \n",
    "    data[f'{col}_mave3'] = data[col].rolling(3).mean()\n",
    "    data[f'{col}_vs_mave3'] = data[col]- data[f'{col}_mave3']\n",
    "    \n",
    "    data[f'{col}_pct_change1_lag1'] = data[f'{col}_pct_change1'].shift(1)\n",
    "    data[f'{col}_diff1_lag1'] = data[f'{col}_diff1'].shift(1)\n",
    "    \n",
    "    \n",
    "data['yr'] = data.index.year\n",
    "data['qtr'] = data.index.quarter\n",
    "data['mon'] = data.index.month\n",
    "data['week'] = data.index.week"
   ]
  },
  {
   "cell_type": "markdown",
   "metadata": {},
   "source": [
    "# Seasonal and Trend Decomposition"
   ]
  },
  {
   "cell_type": "code",
   "execution_count": null,
   "metadata": {},
   "outputs": [],
   "source": [
    "seas_period = 12\n",
    "seas_models = {}\n",
    "for col in cols:\n",
    "    # Fit decomposition model with train data\n",
    "    seas_add = seasonal_decompose(data.loc[data['split'] == 'train', col], period=seas_period, model='additive')\n",
    "    seas_models[col] = seas_add\n",
    "    seas_comp = seas_add.seasonal.copy()\n",
    "    seas_comp.index = seas_comp.index.month\n",
    "    # Index by seasonal period\n",
    "    seas_dict = seas_comp[:seas_period].to_dict()\n",
    "    data[f'{col}_seas_comp'] = data['mon'].replace(seas_dict)\n",
    "    data[f'{col}_seas_adj'] = data[col] -  data[f'{col}_seas_comp']\n",
    "    # Compute other features\n",
    "    data[f'{col}_seas_adj_diff1'] =  data[col].diff()\n",
    "    data[f'{col}_seas_adj_pct_change1'] = data[f'{col}_seas_adj'].pct_change()\n",
    "    data[f'{col}_seas_adj_pct_change1_lag1'] = data[f'{col}_seas_adj_pct_change1'].shift(1)\n",
    "    \n",
    "    data[f'{col}_seas_adj_mave{seas_period}'] = data[col].rolling(seas_period).mean()\n",
    "    data[f'{col}_seas_adj_vs_mave{seas_period}'] = data[col] - data[f'{col}_seas_adj_mave{seas_period}']"
   ]
  },
  {
   "cell_type": "code",
   "execution_count": null,
   "metadata": {},
   "outputs": [],
   "source": [
    "data.isna().sum(axis=0)"
   ]
  },
  {
   "cell_type": "markdown",
   "metadata": {},
   "source": [
    "## Autorregressive model features and targets"
   ]
  },
  {
   "cell_type": "code",
   "execution_count": null,
   "metadata": {},
   "outputs": [],
   "source": [
    "curr_features = [f'cons_GNA95_pct_change1', 'price_GNA95_pct_change1']\n",
    "ar_features = []\n",
    "for col in ['cons_GNA95_pct_change1']:\n",
    "    for tau in range(1, 3+1):\n",
    "        data[f'{col}_lag{tau}'] = data[f'{col}'].shift(tau)\n",
    "        ar_features.append(f'{col}_lag{tau}')"
   ]
  },
  {
   "cell_type": "code",
   "execution_count": null,
   "metadata": {},
   "outputs": [],
   "source": [
    "extra_features = ['cons_GNA95_pct_change1_zstd']\n",
    "\n",
    "data['cons_GNA95_pct_change1_mave12'] = data['cons_GNA95_pct_change1'].rolling(12).mean()\n",
    "data['cons_GNA95_pct_change1_mstd12'] = data['cons_GNA95_pct_change1'].rolling(12).std()\n",
    "data['cons_GNA95_pct_change1_zstd'] =  (data['cons_GNA95_pct_change1'] - data['cons_GNA95_pct_change1_mave12'])/data['cons_GNA95_pct_change1_mstd12']"
   ]
  },
  {
   "cell_type": "code",
   "execution_count": null,
   "metadata": {},
   "outputs": [],
   "source": []
  },
  {
   "cell_type": "code",
   "execution_count": null,
   "metadata": {},
   "outputs": [],
   "source": [
    "data['x_mon_seas_cos'] = np.cos(data['mon']*2*np.pi/12)\n",
    "data['x_mon_seas_sin'] = np.sin(data['mon']*2*np.pi/12)\n",
    "seas_features = ['x_mon_seas_cos', 'x_mon_seas_sin']"
   ]
  },
  {
   "cell_type": "code",
   "execution_count": null,
   "metadata": {},
   "outputs": [],
   "source": [
    "data['cons_GNA95_pct_change1_t1'] = data['cons_GNA95_pct_change1'].shift(-1)"
   ]
  },
  {
   "cell_type": "code",
   "execution_count": null,
   "metadata": {},
   "outputs": [],
   "source": [
    "data.plot.scatter(x='x_mon_seas_cos', y='x_mon_seas_sin',figsize=(4,4))\n",
    "plt.show()"
   ]
  },
  {
   "cell_type": "code",
   "execution_count": null,
   "metadata": {},
   "outputs": [],
   "source": [
    "data = data[13:].copy()"
   ]
  },
  {
   "cell_type": "code",
   "execution_count": null,
   "metadata": {},
   "outputs": [],
   "source": [
    "data.isna().sum(axis=0).sum()"
   ]
  },
  {
   "cell_type": "code",
   "execution_count": null,
   "metadata": {},
   "outputs": [],
   "source": [
    "data_train = data.loc[data['split']=='train'].copy()\n",
    "data_test = data.loc[data['split']=='test'].copy()"
   ]
  },
  {
   "cell_type": "markdown",
   "metadata": {},
   "source": [
    "# Benchmark: Naive"
   ]
  },
  {
   "cell_type": "code",
   "execution_count": null,
   "metadata": {},
   "outputs": [],
   "source": [
    "p_gna95_train = data_train[['cons_GNA95']].copy()\n",
    "\n",
    "p_gna95_train['p_cons_GNA95'] = data_train['cons_GNA95'].shift(1)\n",
    "p_gna95_train['model'] = 'naive'\n",
    "p_gna95_train['split'] = 'train'\n",
    "p_gna95_train.index = p_gna95_train.index.date"
   ]
  },
  {
   "cell_type": "code",
   "execution_count": null,
   "metadata": {},
   "outputs": [],
   "source": [
    "p_gna95_test = data_test[['cons_GNA95']].copy()\n",
    "\n",
    "p_gna95_test['p_cons_GNA95'] = data_test['cons_GNA95'].shift(1)\n",
    "p_gna95_test['p_cons_GNA95'].iloc[0] = data_train['cons_GNA95'].iloc[-1]\n",
    "p_gna95_test['model'] = 'naive'\n",
    "p_gna95_test['split'] = 'test'\n",
    "p_gna95_test.index = p_gna95_test.index.date"
   ]
  },
  {
   "cell_type": "code",
   "execution_count": null,
   "metadata": {},
   "outputs": [],
   "source": [
    "select_cols = ['model', 'split', 'cons_GNA95', 'p_cons_GNA95']\n",
    "\n",
    "pd.concat([p_gna95_train, p_gna95_test], axis=0)[select_cols].to_excel(OUTPATH + OUTFILE, index_label='Date')"
   ]
  },
  {
   "cell_type": "code",
   "execution_count": null,
   "metadata": {},
   "outputs": [],
   "source": []
  }
 ],
 "metadata": {
  "kernelspec": {
   "display_name": "Python 3",
   "language": "python",
   "name": "python3"
  },
  "language_info": {
   "codemirror_mode": {
    "name": "ipython",
    "version": 3
   },
   "file_extension": ".py",
   "mimetype": "text/x-python",
   "name": "python",
   "nbconvert_exporter": "python",
   "pygments_lexer": "ipython3",
   "version": "3.6.10"
  },
  "toc-autonumbering": true
 },
 "nbformat": 4,
 "nbformat_minor": 4
}
