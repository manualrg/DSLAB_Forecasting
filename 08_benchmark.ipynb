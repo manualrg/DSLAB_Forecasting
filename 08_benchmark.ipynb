{
 "cells": [
  {
   "cell_type": "code",
   "execution_count": 2,
   "metadata": {},
   "outputs": [],
   "source": [
    "import pandas as pd\n",
    "import matplotlib as plt\n",
    "import seaborn as sns\n",
    "import os"
   ]
  },
  {
   "cell_type": "code",
   "execution_count": 26,
   "metadata": {},
   "outputs": [
    {
     "name": "stderr",
     "output_type": "stream",
     "text": [
      "Importing plotly failed. Interactive plots will not work.\n"
     ]
    }
   ],
   "source": [
    "import mle.tsa as mle_tsa"
   ]
  },
  {
   "cell_type": "code",
   "execution_count": 16,
   "metadata": {},
   "outputs": [],
   "source": [
    "OUTPATH = 'data/out/'"
   ]
  },
  {
   "cell_type": "code",
   "execution_count": 23,
   "metadata": {},
   "outputs": [
    {
     "data": {
      "text/plain": [
       "['cons_gna95_test_fbprophet.xlsx',\n",
       " 'cons_gna95_test_naive.xlsx',\n",
       " 'cons_gna95_test_sarimax.xlsx',\n",
       " 'cons_gna95_test_var.xlsx']"
      ]
     },
     "execution_count": 23,
     "metadata": {},
     "output_type": "execute_result"
    }
   ],
   "source": [
    "outfiles = os.listdir(OUTPATH)\n",
    "outfiles"
   ]
  },
  {
   "cell_type": "code",
   "execution_count": 24,
   "metadata": {},
   "outputs": [
    {
     "name": "stdout",
     "output_type": "stream",
     "text": [
      "cons_gna95_test_fbprophet.xlsx\n",
      "cons_gna95_test_naive.xlsx\n",
      "cons_gna95_test_sarimax.xlsx\n",
      "cons_gna95_test_var.xlsx\n"
     ]
    }
   ],
   "source": [
    "test_preds = []\n",
    "for file in outfiles:\n",
    "    print(file)\n",
    "    df = pd.read_excel(OUTPATH + file, parse_dates=['Date'], index_col='Date')\n",
    "    test_preds.append(df)\n",
    "\n",
    "p_gna95_test = pd.concat(test_preds, axis=0, sort=False)"
   ]
  },
  {
   "cell_type": "code",
   "execution_count": 30,
   "metadata": {},
   "outputs": [],
   "source": [
    "p_gna95_test['ape_cons_GNA95'] = p_gna95_test[['cons_GNA95', 'p_cons_GNA95']].apply(lambda x: mle_tsa.compute_ape(y_true=x[0], y_pred=x[1]), axis=1)"
   ]
  },
  {
   "cell_type": "code",
   "execution_count": 31,
   "metadata": {},
   "outputs": [
    {
     "data": {
      "text/plain": [
       "model\n",
       "fbprophet    0.013020\n",
       "naive        0.067712\n",
       "sarimax      0.040938\n",
       "var          0.025955\n",
       "Name: ape_cons_GNA95, dtype: float64"
      ]
     },
     "execution_count": 31,
     "metadata": {},
     "output_type": "execute_result"
    }
   ],
   "source": [
    "p_gna95_test.groupby('model')['ape_cons_GNA95'].mean()"
   ]
  },
  {
   "cell_type": "code",
   "execution_count": null,
   "metadata": {},
   "outputs": [],
   "source": []
  }
 ],
 "metadata": {
  "kernelspec": {
   "display_name": "Python 3",
   "language": "python",
   "name": "python3"
  },
  "language_info": {
   "codemirror_mode": {
    "name": "ipython",
    "version": 3
   },
   "file_extension": ".py",
   "mimetype": "text/x-python",
   "name": "python",
   "nbconvert_exporter": "python",
   "pygments_lexer": "ipython3",
   "version": "3.6.10"
  }
 },
 "nbformat": 4,
 "nbformat_minor": 4
}
