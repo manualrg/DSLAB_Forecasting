{
 "cells": [
  {
   "cell_type": "code",
   "execution_count": null,
   "metadata": {},
   "outputs": [],
   "source": [
    "import numpy as np\n",
    "import pandas as pd\n",
    "import matplotlib.pyplot as plt\n",
    "import seaborn as sns\n",
    "import os"
   ]
  },
  {
   "cell_type": "raw",
   "metadata": {},
   "source": [
    "# OPTIONAL CELL\n",
    "%%capture\n",
    "%run 04_SARIMAX.ipynb\n",
    "%run 05_VAR.ipynb\n",
    "%run 06_FBProphet.ipynb"
   ]
  },
  {
   "cell_type": "code",
   "execution_count": null,
   "metadata": {},
   "outputs": [],
   "source": [
    "import mle.tsa as mle_tsa"
   ]
  },
  {
   "cell_type": "code",
   "execution_count": null,
   "metadata": {},
   "outputs": [],
   "source": [
    "plt.style.use('seaborn')\n",
    "plt.rcParams.update({'figure.figsize': (16,8)})\n",
    "sns.set_context(\"talk\")"
   ]
  },
  {
   "cell_type": "code",
   "execution_count": null,
   "metadata": {},
   "outputs": [],
   "source": [
    "OUTPATH = 'data/out/'"
   ]
  },
  {
   "cell_type": "code",
   "execution_count": null,
   "metadata": {},
   "outputs": [],
   "source": [
    "outfiles = os.listdir(OUTPATH)\n",
    "outfiles"
   ]
  },
  {
   "cell_type": "code",
   "execution_count": null,
   "metadata": {},
   "outputs": [],
   "source": [
    "test_preds = []\n",
    "for file in outfiles:\n",
    "    print(file)\n",
    "    df = pd.read_excel(OUTPATH + file, parse_dates=['Date'], index_col='Date')\n",
    "    test_preds.append(df)\n",
    "\n",
    "p_gna95 = pd.concat(test_preds, axis=0, sort=False)"
   ]
  },
  {
   "cell_type": "code",
   "execution_count": null,
   "metadata": {},
   "outputs": [],
   "source": [
    "p_gna95['ape_cons_GNA95'] = p_gna95[['cons_GNA95', 'p_cons_GNA95']].apply(lambda x: mle_tsa.compute_ape(y_true=x[0], y_pred=x[1]), axis=1)"
   ]
  },
  {
   "cell_type": "code",
   "execution_count": null,
   "metadata": {},
   "outputs": [],
   "source": [
    "agg_perf = (p_gna95.groupby(['model', 'split'])[['ape_cons_GNA95']].mean()*100).reset_index().rename(columns={'ape_cons_GNA95': 'MAPE'})\n",
    "agg_perf"
   ]
  },
  {
   "cell_type": "code",
   "execution_count": null,
   "metadata": {},
   "outputs": [],
   "source": [
    "p_gna95['Date'] = p_gna95.index\n",
    "split_dates = p_gna95.groupby('split')['Date'].agg(['first', 'last'])\n",
    "split_dates"
   ]
  },
  {
   "cell_type": "code",
   "execution_count": null,
   "metadata": {},
   "outputs": [],
   "source": [
    "split_dates.loc[\"test\"]"
   ]
  },
  {
   "cell_type": "code",
   "execution_count": null,
   "metadata": {},
   "outputs": [],
   "source": [
    "test_range = split_dates.loc[\"test\"].dt.strftime('%Y-%m-%m')\n",
    "test_start_dt = test_range.values[0]\n",
    "test_end_dt = test_range.values[1]"
   ]
  },
  {
   "cell_type": "code",
   "execution_count": null,
   "metadata": {},
   "outputs": [],
   "source": [
    "sns.barplot(data=agg_perf[agg_perf['split']=='test'], x='model', y='MAPE')\n",
    "plt.title(f'Promedio Error Absoluto Porcentual en Test: desde: {test_start_dt} hasta: {test_end_dt}')\n",
    "plt.ylabel('MAPE (%)')\n",
    "plt.show()"
   ]
  },
  {
   "cell_type": "code",
   "execution_count": null,
   "metadata": {},
   "outputs": [],
   "source": []
  }
 ],
 "metadata": {
  "kernelspec": {
   "display_name": "Python 3",
   "language": "python",
   "name": "python3"
  },
  "language_info": {
   "codemirror_mode": {
    "name": "ipython",
    "version": 3
   },
   "file_extension": ".py",
   "mimetype": "text/x-python",
   "name": "python",
   "nbconvert_exporter": "python",
   "pygments_lexer": "ipython3",
   "version": "3.6.10"
  }
 },
 "nbformat": 4,
 "nbformat_minor": 4
}
