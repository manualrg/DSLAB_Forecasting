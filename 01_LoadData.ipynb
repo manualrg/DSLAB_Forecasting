{
 "cells": [
  {
   "cell_type": "code",
   "execution_count": null,
   "metadata": {},
   "outputs": [],
   "source": [
    "import pandas as pd"
   ]
  },
  {
   "cell_type": "code",
   "execution_count": null,
   "metadata": {},
   "outputs": [],
   "source": [
    "import os\n",
    "os.listdir('data')"
   ]
  },
  {
   "cell_type": "code",
   "execution_count": null,
   "metadata": {},
   "outputs": [],
   "source": [
    "INPATH = \"data/\"\n",
    "INFILE1 = \"202005_petroleo_cnmc.xlsx\""
   ]
  },
  {
   "cell_type": "code",
   "execution_count": null,
   "metadata": {},
   "outputs": [],
   "source": [
    "OUTPATH = 'data/'\n",
    "OUTFILE1 = 'cnmc_goa_gna.xlsx'\n",
    "OUTFILE2 = 'cnmc_prov_month_prices.xlsx'"
   ]
  },
  {
   "cell_type": "code",
   "execution_count": null,
   "metadata": {},
   "outputs": [],
   "source": [
    "START_DT = '2003-01-01'\n",
    "END_DT = '2020-03-01'"
   ]
  },
  {
   "cell_type": "code",
   "execution_count": null,
   "metadata": {},
   "outputs": [],
   "source": [
    "month_parser = [\"enero\",\n",
    "\"febrero\",\n",
    "\"marzo\",\n",
    "\"abril\",\n",
    "\"mayo\",\n",
    "\"junio\",\n",
    "\"julio\",\n",
    "\"agosto\",\n",
    "\"septiembre\",\n",
    "\"octubre\",\n",
    "\"noviembre\",\n",
    "\"diciembre\",\n",
    "]"
   ]
  },
  {
   "cell_type": "code",
   "execution_count": null,
   "metadata": {},
   "outputs": [],
   "source": [
    "def create_date(yr, mon, day):\n",
    "    return pd.to_datetime(10000*yr.astype(float)+100*mon.astype(float)+1, format='%Y%m%d')"
   ]
  },
  {
   "cell_type": "markdown",
   "metadata": {},
   "source": [
    "# Load Data"
   ]
  },
  {
   "cell_type": "code",
   "execution_count": null,
   "metadata": {},
   "outputs": [],
   "source": [
    "cons_renaming = {'GASÓLEO A': 'cons_GOA',\n",
    "           'GASOLINA  AUTO. S/PB 95 I.O.': 'cons_GNA95',\n",
    "           'GASOLINA  AUTO. S/PB 98 I.O.': 'cons_GNA98'}\n",
    "\n",
    "cons_select_cols = ['cons_GOA', 'cons_GNA95', 'cons_GNA98']"
   ]
  },
  {
   "cell_type": "code",
   "execution_count": null,
   "metadata": {},
   "outputs": [],
   "source": [
    "cons = pd.read_excel(INPATH + INFILE1, sheet_name ='Con')\n",
    "cons = cons[cons['MES']!='ANUAL']\n",
    "cons['MES'] = cons['MES'].replace(month_parser, range(1,len(month_parser)+1)).astype(int)\n",
    "cons['Date'] = cons[['AÑO', 'MES']].apply(lambda x: create_date(yr=x[0], mon=x[1], day=1), axis=1)\n",
    "\n",
    "cons.rename(inplace=True, columns = cons_renaming)\n",
    "cons.set_index('Date', inplace=True)\n",
    "cons = cons.loc[START_DT:END_DT, cons_select_cols].copy()  #kts\n",
    "pd.concat([cons.head(3), cons.tail(3)], axis=0)"
   ]
  },
  {
   "cell_type": "code",
   "execution_count": null,
   "metadata": {},
   "outputs": [],
   "source": [
    "cot_renaming = {'GASÓLEO A': 'spot_GOA',\n",
    "            'GASOLINA': 'spot_GNA',\n",
    "            'BRENT': 'spot_Brent'}\n",
    "\n",
    "cot_select_cols = ['spot_GOA', 'spot_GNA', 'spot_Brent']"
   ]
  },
  {
   "cell_type": "code",
   "execution_count": null,
   "metadata": {},
   "outputs": [],
   "source": [
    "cot = pd.read_excel(INPATH + INFILE1, sheet_name ='Cot')\n",
    "cot = cot.rename( columns = cot_renaming).rename( columns = {'MES': 'Date'})\n",
    "cot.set_index('Date', inplace=True)\n",
    "\n",
    "cot = cot.loc[START_DT:END_DT, cot_select_cols].copy()\n",
    "cot.head()"
   ]
  },
  {
   "cell_type": "code",
   "execution_count": null,
   "metadata": {},
   "outputs": [],
   "source": [
    "prices_renaming = {'GASÓLEO A': 'price_GOA',\n",
    "           'GASOLINA  AUTO. S/PB 95 I.O.': 'price_GNA95',\n",
    "           'GASOLINA  AUTO. S/PB 98 I.O.': 'price_GNA98'}\n",
    "\n",
    "prices_select_cols = ['price_GOA', 'price_GNA95', 'price_GNA98']"
   ]
  },
  {
   "cell_type": "code",
   "execution_count": null,
   "metadata": {},
   "outputs": [],
   "source": [
    "prices = pd.read_excel(INPATH + INFILE1, sheet_name ='PVP')\n",
    "\n",
    "prices['MES'] = prices['MES'].replace(month_parser, range(1,len(month_parser)+1)).astype(int)\n",
    "prices['Date'] = prices[['AÑO', 'MES']].apply(lambda x: create_date(yr=x[0], mon=x[1], day=1), axis=1)\n",
    "prices.rename(inplace=True, columns = prices_renaming)\n",
    "\n",
    "prices.set_index('Date', inplace=True)\n",
    "prices = prices.loc[START_DT:END_DT, prices_select_cols].copy()\n",
    "pd.concat([prices.head(3), prices.tail(3)], axis=0)"
   ]
  },
  {
   "cell_type": "code",
   "execution_count": null,
   "metadata": {},
   "outputs": [],
   "source": [
    "comb = pd.concat([cons, cot, prices],axis=1).dropna()\n",
    "pd.concat([comb.head(3), comb.tail(3)], axis=0)"
   ]
  },
  {
   "cell_type": "code",
   "execution_count": null,
   "metadata": {},
   "outputs": [],
   "source": [
    "cons_renaming"
   ]
  },
  {
   "cell_type": "code",
   "execution_count": null,
   "metadata": {},
   "outputs": [],
   "source": [
    "prices_prov = pd.read_excel(INPATH + INFILE1, sheet_name ='PVP_Prov')\n",
    "prices_prov.rename(inplace=True, columns=prices_renaming)\n",
    "prices_prov = prices_prov[prices_prov['PROVINCIA']!='TOTAL'].copy()\n",
    "prices_prov['MES'] = prices_prov['MES'].replace(month_parser, range(1,len(month_parser)+1)).astype(int)\n",
    "prices_prov['Date'] = prices_prov[['AÑO', 'MES']].apply(lambda x: create_date(yr=x[0], mon=x[1], day=1), axis=1)"
   ]
  },
  {
   "cell_type": "markdown",
   "metadata": {},
   "source": [
    "# Train/Test split"
   ]
  },
  {
   "cell_type": "code",
   "execution_count": null,
   "metadata": {},
   "outputs": [],
   "source": [
    "split_col = 'split'\n",
    "test_size = 12"
   ]
  },
  {
   "cell_type": "code",
   "execution_count": null,
   "metadata": {},
   "outputs": [],
   "source": [
    "idx_time = comb.index\n",
    "idx_train, idx_test = idx_time[:-test_size], idx_time[-test_size:]"
   ]
  },
  {
   "cell_type": "code",
   "execution_count": null,
   "metadata": {},
   "outputs": [],
   "source": [
    "comb[split_col] = 'train'\n",
    "comb.loc[idx_test, split_col] = 'test'\n",
    "comb[split_col].value_counts()"
   ]
  },
  {
   "cell_type": "code",
   "execution_count": null,
   "metadata": {},
   "outputs": [],
   "source": [
    "last_date = prices_prov['Date'].max()\n",
    "TRAIN_END_DT = last_date - pd.DateOffset(months=test_size)\n",
    "TRAIN_END_DT"
   ]
  },
  {
   "cell_type": "code",
   "execution_count": null,
   "metadata": {},
   "outputs": [],
   "source": [
    "prices_prov[split_col] = 'train'\n",
    "prices_prov.loc[prices_prov['Date'] >TRAIN_END_DT, split_col] = 'test'\n",
    "prices_prov[split_col].value_counts()"
   ]
  },
  {
   "cell_type": "code",
   "execution_count": null,
   "metadata": {},
   "outputs": [],
   "source": [
    "comb.to_excel(OUTPATH + OUTFILE1)"
   ]
  },
  {
   "cell_type": "code",
   "execution_count": null,
   "metadata": {},
   "outputs": [],
   "source": [
    "prices_prov.to_excel(OUTPATH + OUTFILE2)"
   ]
  }
 ],
 "metadata": {
  "kernelspec": {
   "display_name": "Python 3",
   "language": "python",
   "name": "python3"
  },
  "language_info": {
   "codemirror_mode": {
    "name": "ipython",
    "version": 3
   },
   "file_extension": ".py",
   "mimetype": "text/x-python",
   "name": "python",
   "nbconvert_exporter": "python",
   "pygments_lexer": "ipython3",
   "version": "3.6.10"
  }
 },
 "nbformat": 4,
 "nbformat_minor": 4
}
