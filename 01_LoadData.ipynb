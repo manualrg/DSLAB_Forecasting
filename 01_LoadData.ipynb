{
 "cells": [
  {
   "cell_type": "code",
   "execution_count": 1,
   "metadata": {},
   "outputs": [],
   "source": [
    "import pandas as pd"
   ]
  },
  {
   "cell_type": "code",
   "execution_count": 2,
   "metadata": {},
   "outputs": [
    {
     "data": {
      "text/plain": [
       "['202005_petroleo_cnmc.xlsx',\n",
       " 'cnmc_goa_gna.xlsx',\n",
       " 'Estadisticas_petroleo_mayo_2020.xlsx',\n",
       " '~$Estadisticas_petroleo_mayo_2020.xlsx']"
      ]
     },
     "execution_count": 2,
     "metadata": {},
     "output_type": "execute_result"
    }
   ],
   "source": [
    "import os\n",
    "os.listdir('data')"
   ]
  },
  {
   "cell_type": "code",
   "execution_count": 3,
   "metadata": {},
   "outputs": [],
   "source": [
    "INPATH = \"data/\"\n",
    "INFILE1 = \"202005_petroleo_cnmc.xlsx\""
   ]
  },
  {
   "cell_type": "code",
   "execution_count": 4,
   "metadata": {},
   "outputs": [],
   "source": [
    "OUTPATH = 'data/'\n",
    "OUTFILE1 = 'cnmc_goa_gna.xlsx'\n",
    "OUTFILE2 = 'cnmc_prov_month_prices.xlsx'"
   ]
  },
  {
   "cell_type": "code",
   "execution_count": 5,
   "metadata": {},
   "outputs": [],
   "source": [
    "START_DT = '2003-01-01'\n",
    "END_DT = '2020-03-01'"
   ]
  },
  {
   "cell_type": "code",
   "execution_count": 6,
   "metadata": {},
   "outputs": [],
   "source": [
    "month_parser = [\"enero\",\n",
    "\"febrero\",\n",
    "\"marzo\",\n",
    "\"abril\",\n",
    "\"mayo\",\n",
    "\"junio\",\n",
    "\"julio\",\n",
    "\"agosto\",\n",
    "\"septiembre\",\n",
    "\"octubre\",\n",
    "\"noviembre\",\n",
    "\"diciembre\",\n",
    "]"
   ]
  },
  {
   "cell_type": "code",
   "execution_count": 7,
   "metadata": {},
   "outputs": [],
   "source": [
    "def create_date(yr, mon, day):\n",
    "    return pd.to_datetime(10000*yr.astype(float)+100*mon.astype(float)+1, format='%Y%m%d')"
   ]
  },
  {
   "cell_type": "markdown",
   "metadata": {},
   "source": [
    "# Load Data"
   ]
  },
  {
   "cell_type": "code",
   "execution_count": 8,
   "metadata": {},
   "outputs": [],
   "source": [
    "cons_renaming = {'GASÓLEO A': 'cons_GOA',\n",
    "           'GASOLINA  AUTO. S/PB 95 I.O.': 'cons_GNA95',\n",
    "           'GASOLINA  AUTO. S/PB 98 I.O.': 'cons_GNA98'}\n",
    "\n",
    "cons_select_cols = ['cons_GOA', 'cons_GNA95', 'cons_GNA98']"
   ]
  },
  {
   "cell_type": "code",
   "execution_count": 9,
   "metadata": {},
   "outputs": [
    {
     "data": {
      "text/html": [
       "<div>\n",
       "<style scoped>\n",
       "    .dataframe tbody tr th:only-of-type {\n",
       "        vertical-align: middle;\n",
       "    }\n",
       "\n",
       "    .dataframe tbody tr th {\n",
       "        vertical-align: top;\n",
       "    }\n",
       "\n",
       "    .dataframe thead th {\n",
       "        text-align: right;\n",
       "    }\n",
       "</style>\n",
       "<table border=\"1\" class=\"dataframe\">\n",
       "  <thead>\n",
       "    <tr style=\"text-align: right;\">\n",
       "      <th></th>\n",
       "      <th>cons_GOA</th>\n",
       "      <th>cons_GNA95</th>\n",
       "      <th>cons_GNA98</th>\n",
       "    </tr>\n",
       "    <tr>\n",
       "      <th>Date</th>\n",
       "      <th></th>\n",
       "      <th></th>\n",
       "      <th></th>\n",
       "    </tr>\n",
       "  </thead>\n",
       "  <tbody>\n",
       "    <tr>\n",
       "      <th>2003-01-01</th>\n",
       "      <td>1.608696e+06</td>\n",
       "      <td>439963.562137</td>\n",
       "      <td>60640.977069</td>\n",
       "    </tr>\n",
       "    <tr>\n",
       "      <th>2003-02-01</th>\n",
       "      <td>1.599444e+06</td>\n",
       "      <td>412083.235859</td>\n",
       "      <td>57829.011088</td>\n",
       "    </tr>\n",
       "    <tr>\n",
       "      <th>2003-03-01</th>\n",
       "      <td>1.715755e+06</td>\n",
       "      <td>467030.776111</td>\n",
       "      <td>65063.645973</td>\n",
       "    </tr>\n",
       "    <tr>\n",
       "      <th>2019-12-01</th>\n",
       "      <td>1.840063e+06</td>\n",
       "      <td>410458.860000</td>\n",
       "      <td>34767.810000</td>\n",
       "    </tr>\n",
       "    <tr>\n",
       "      <th>2020-01-01</th>\n",
       "      <td>1.789099e+06</td>\n",
       "      <td>380321.020000</td>\n",
       "      <td>29967.040000</td>\n",
       "    </tr>\n",
       "    <tr>\n",
       "      <th>2020-02-01</th>\n",
       "      <td>1.804107e+06</td>\n",
       "      <td>380494.340000</td>\n",
       "      <td>29840.130000</td>\n",
       "    </tr>\n",
       "  </tbody>\n",
       "</table>\n",
       "</div>"
      ],
      "text/plain": [
       "                cons_GOA     cons_GNA95    cons_GNA98\n",
       "Date                                                 \n",
       "2003-01-01  1.608696e+06  439963.562137  60640.977069\n",
       "2003-02-01  1.599444e+06  412083.235859  57829.011088\n",
       "2003-03-01  1.715755e+06  467030.776111  65063.645973\n",
       "2019-12-01  1.840063e+06  410458.860000  34767.810000\n",
       "2020-01-01  1.789099e+06  380321.020000  29967.040000\n",
       "2020-02-01  1.804107e+06  380494.340000  29840.130000"
      ]
     },
     "execution_count": 9,
     "metadata": {},
     "output_type": "execute_result"
    }
   ],
   "source": [
    "cons = pd.read_excel(INPATH + INFILE1, sheet_name ='Con')\n",
    "cons = cons[cons['MES']!='ANUAL']\n",
    "cons['MES'] = cons['MES'].replace(month_parser, range(1,len(month_parser)+1)).astype(int)\n",
    "cons['Date'] = cons[['AÑO', 'MES']].apply(lambda x: create_date(yr=x[0], mon=x[1], day=1), axis=1)\n",
    "\n",
    "cons.rename(inplace=True, columns = cons_renaming)\n",
    "cons.set_index('Date', inplace=True)\n",
    "cons = cons.loc[START_DT:END_DT, cons_select_cols].copy()  #kts\n",
    "pd.concat([cons.head(3), cons.tail(3)], axis=0)"
   ]
  },
  {
   "cell_type": "code",
   "execution_count": 10,
   "metadata": {},
   "outputs": [],
   "source": [
    "cot_renaming = {'GASÓLEO A': 'spot_GOA',\n",
    "            'GASOLINA': 'spot_GNA',\n",
    "            'BRENT': 'spot_Brent'}\n",
    "\n",
    "cot_select_cols = ['spot_GOA', 'spot_GNA', 'spot_Brent']"
   ]
  },
  {
   "cell_type": "code",
   "execution_count": 11,
   "metadata": {},
   "outputs": [
    {
     "data": {
      "text/html": [
       "<div>\n",
       "<style scoped>\n",
       "    .dataframe tbody tr th:only-of-type {\n",
       "        vertical-align: middle;\n",
       "    }\n",
       "\n",
       "    .dataframe tbody tr th {\n",
       "        vertical-align: top;\n",
       "    }\n",
       "\n",
       "    .dataframe thead th {\n",
       "        text-align: right;\n",
       "    }\n",
       "</style>\n",
       "<table border=\"1\" class=\"dataframe\">\n",
       "  <thead>\n",
       "    <tr style=\"text-align: right;\">\n",
       "      <th></th>\n",
       "      <th>spot_GOA</th>\n",
       "      <th>spot_GNA</th>\n",
       "      <th>spot_Brent</th>\n",
       "    </tr>\n",
       "    <tr>\n",
       "      <th>Date</th>\n",
       "      <th></th>\n",
       "      <th></th>\n",
       "      <th></th>\n",
       "    </tr>\n",
       "  </thead>\n",
       "  <tbody>\n",
       "    <tr>\n",
       "      <th>2007-01-01</th>\n",
       "      <td>395.853111</td>\n",
       "      <td>383.742561</td>\n",
       "      <td>42.207328</td>\n",
       "    </tr>\n",
       "    <tr>\n",
       "      <th>2007-02-01</th>\n",
       "      <td>416.684195</td>\n",
       "      <td>422.002876</td>\n",
       "      <td>44.977131</td>\n",
       "    </tr>\n",
       "    <tr>\n",
       "      <th>2007-03-01</th>\n",
       "      <td>434.833042</td>\n",
       "      <td>476.939514</td>\n",
       "      <td>47.164810</td>\n",
       "    </tr>\n",
       "    <tr>\n",
       "      <th>2007-04-01</th>\n",
       "      <td>460.730439</td>\n",
       "      <td>530.646820</td>\n",
       "      <td>50.086227</td>\n",
       "    </tr>\n",
       "    <tr>\n",
       "      <th>2007-05-01</th>\n",
       "      <td>468.679841</td>\n",
       "      <td>570.140658</td>\n",
       "      <td>50.209746</td>\n",
       "    </tr>\n",
       "  </tbody>\n",
       "</table>\n",
       "</div>"
      ],
      "text/plain": [
       "              spot_GOA    spot_GNA  spot_Brent\n",
       "Date                                          \n",
       "2007-01-01  395.853111  383.742561   42.207328\n",
       "2007-02-01  416.684195  422.002876   44.977131\n",
       "2007-03-01  434.833042  476.939514   47.164810\n",
       "2007-04-01  460.730439  530.646820   50.086227\n",
       "2007-05-01  468.679841  570.140658   50.209746"
      ]
     },
     "execution_count": 11,
     "metadata": {},
     "output_type": "execute_result"
    }
   ],
   "source": [
    "cot = pd.read_excel(INPATH + INFILE1, sheet_name ='Cot')\n",
    "cot = cot.rename( columns = cot_renaming).rename( columns = {'MES': 'Date'})\n",
    "cot.set_index('Date', inplace=True)\n",
    "\n",
    "cot = cot.loc[START_DT:END_DT, cot_select_cols].copy()\n",
    "cot.head()"
   ]
  },
  {
   "cell_type": "code",
   "execution_count": 12,
   "metadata": {},
   "outputs": [],
   "source": [
    "prices_renaming = {'GASÓLEO A': 'price_GOA',\n",
    "           'GASOLINA  AUTO. S/PB 95 I.O.': 'price_GNA95',\n",
    "           'GASOLINA  AUTO. S/PB 98 I.O.': 'price_GNA98'}\n",
    "\n",
    "prices_select_cols = ['price_GOA', 'price_GNA95', 'price_GNA98']"
   ]
  },
  {
   "cell_type": "code",
   "execution_count": 13,
   "metadata": {},
   "outputs": [
    {
     "data": {
      "text/html": [
       "<div>\n",
       "<style scoped>\n",
       "    .dataframe tbody tr th:only-of-type {\n",
       "        vertical-align: middle;\n",
       "    }\n",
       "\n",
       "    .dataframe tbody tr th {\n",
       "        vertical-align: top;\n",
       "    }\n",
       "\n",
       "    .dataframe thead th {\n",
       "        text-align: right;\n",
       "    }\n",
       "</style>\n",
       "<table border=\"1\" class=\"dataframe\">\n",
       "  <thead>\n",
       "    <tr style=\"text-align: right;\">\n",
       "      <th></th>\n",
       "      <th>price_GOA</th>\n",
       "      <th>price_GNA95</th>\n",
       "      <th>price_GNA98</th>\n",
       "    </tr>\n",
       "    <tr>\n",
       "      <th>Date</th>\n",
       "      <th></th>\n",
       "      <th></th>\n",
       "      <th></th>\n",
       "    </tr>\n",
       "  </thead>\n",
       "  <tbody>\n",
       "    <tr>\n",
       "      <th>2007-01-01</th>\n",
       "      <td>0.883903</td>\n",
       "      <td>0.940323</td>\n",
       "      <td>1.052226</td>\n",
       "    </tr>\n",
       "    <tr>\n",
       "      <th>2007-02-01</th>\n",
       "      <td>0.888000</td>\n",
       "      <td>0.946250</td>\n",
       "      <td>1.057107</td>\n",
       "    </tr>\n",
       "    <tr>\n",
       "      <th>2007-03-01</th>\n",
       "      <td>0.908194</td>\n",
       "      <td>0.991258</td>\n",
       "      <td>1.100032</td>\n",
       "    </tr>\n",
       "    <tr>\n",
       "      <th>2020-01-01</th>\n",
       "      <td>1.241000</td>\n",
       "      <td>1.316000</td>\n",
       "      <td>1.449000</td>\n",
       "    </tr>\n",
       "    <tr>\n",
       "      <th>2020-02-01</th>\n",
       "      <td>1.201000</td>\n",
       "      <td>1.295000</td>\n",
       "      <td>1.432000</td>\n",
       "    </tr>\n",
       "    <tr>\n",
       "      <th>2020-03-01</th>\n",
       "      <td>1.114000</td>\n",
       "      <td>1.209000</td>\n",
       "      <td>1.349000</td>\n",
       "    </tr>\n",
       "  </tbody>\n",
       "</table>\n",
       "</div>"
      ],
      "text/plain": [
       "            price_GOA  price_GNA95  price_GNA98\n",
       "Date                                           \n",
       "2007-01-01   0.883903     0.940323     1.052226\n",
       "2007-02-01   0.888000     0.946250     1.057107\n",
       "2007-03-01   0.908194     0.991258     1.100032\n",
       "2020-01-01   1.241000     1.316000     1.449000\n",
       "2020-02-01   1.201000     1.295000     1.432000\n",
       "2020-03-01   1.114000     1.209000     1.349000"
      ]
     },
     "execution_count": 13,
     "metadata": {},
     "output_type": "execute_result"
    }
   ],
   "source": [
    "prices = pd.read_excel(INPATH + INFILE1, sheet_name ='PVP')\n",
    "\n",
    "prices['MES'] = prices['MES'].replace(month_parser, range(1,len(month_parser)+1)).astype(int)\n",
    "prices['Date'] = prices[['AÑO', 'MES']].apply(lambda x: create_date(yr=x[0], mon=x[1], day=1), axis=1)\n",
    "prices.rename(inplace=True, columns = prices_renaming)\n",
    "\n",
    "prices.set_index('Date', inplace=True)\n",
    "prices = prices.loc[START_DT:END_DT, prices_select_cols].copy()\n",
    "pd.concat([prices.head(3), prices.tail(3)], axis=0)"
   ]
  },
  {
   "cell_type": "code",
   "execution_count": 14,
   "metadata": {},
   "outputs": [
    {
     "data": {
      "text/html": [
       "<div>\n",
       "<style scoped>\n",
       "    .dataframe tbody tr th:only-of-type {\n",
       "        vertical-align: middle;\n",
       "    }\n",
       "\n",
       "    .dataframe tbody tr th {\n",
       "        vertical-align: top;\n",
       "    }\n",
       "\n",
       "    .dataframe thead th {\n",
       "        text-align: right;\n",
       "    }\n",
       "</style>\n",
       "<table border=\"1\" class=\"dataframe\">\n",
       "  <thead>\n",
       "    <tr style=\"text-align: right;\">\n",
       "      <th></th>\n",
       "      <th>cons_GOA</th>\n",
       "      <th>cons_GNA95</th>\n",
       "      <th>cons_GNA98</th>\n",
       "      <th>spot_GOA</th>\n",
       "      <th>spot_GNA</th>\n",
       "      <th>spot_Brent</th>\n",
       "      <th>price_GOA</th>\n",
       "      <th>price_GNA95</th>\n",
       "      <th>price_GNA98</th>\n",
       "    </tr>\n",
       "    <tr>\n",
       "      <th>Date</th>\n",
       "      <th></th>\n",
       "      <th></th>\n",
       "      <th></th>\n",
       "      <th></th>\n",
       "      <th></th>\n",
       "      <th></th>\n",
       "      <th></th>\n",
       "      <th></th>\n",
       "      <th></th>\n",
       "    </tr>\n",
       "  </thead>\n",
       "  <tbody>\n",
       "    <tr>\n",
       "      <th>2007-01-01</th>\n",
       "      <td>2.028811e+06</td>\n",
       "      <td>459030.653532</td>\n",
       "      <td>63019.746212</td>\n",
       "      <td>395.853111</td>\n",
       "      <td>383.742561</td>\n",
       "      <td>42.207328</td>\n",
       "      <td>0.883903</td>\n",
       "      <td>0.940323</td>\n",
       "      <td>1.052226</td>\n",
       "    </tr>\n",
       "    <tr>\n",
       "      <th>2007-02-01</th>\n",
       "      <td>1.979790e+06</td>\n",
       "      <td>425537.713411</td>\n",
       "      <td>60966.501392</td>\n",
       "      <td>416.684195</td>\n",
       "      <td>422.002876</td>\n",
       "      <td>44.977131</td>\n",
       "      <td>0.888000</td>\n",
       "      <td>0.946250</td>\n",
       "      <td>1.057107</td>\n",
       "    </tr>\n",
       "    <tr>\n",
       "      <th>2007-03-01</th>\n",
       "      <td>2.314793e+06</td>\n",
       "      <td>503274.794375</td>\n",
       "      <td>74170.996622</td>\n",
       "      <td>434.833042</td>\n",
       "      <td>476.939514</td>\n",
       "      <td>47.164810</td>\n",
       "      <td>0.908194</td>\n",
       "      <td>0.991258</td>\n",
       "      <td>1.100032</td>\n",
       "    </tr>\n",
       "    <tr>\n",
       "      <th>2019-12-01</th>\n",
       "      <td>1.840063e+06</td>\n",
       "      <td>410458.860000</td>\n",
       "      <td>34767.810000</td>\n",
       "      <td>546.510439</td>\n",
       "      <td>542.907143</td>\n",
       "      <td>58.743030</td>\n",
       "      <td>1.224000</td>\n",
       "      <td>1.303000</td>\n",
       "      <td>1.436000</td>\n",
       "    </tr>\n",
       "    <tr>\n",
       "      <th>2020-01-01</th>\n",
       "      <td>1.789099e+06</td>\n",
       "      <td>380321.020000</td>\n",
       "      <td>29967.040000</td>\n",
       "      <td>517.998215</td>\n",
       "      <td>534.999139</td>\n",
       "      <td>57.422037</td>\n",
       "      <td>1.241000</td>\n",
       "      <td>1.316000</td>\n",
       "      <td>1.449000</td>\n",
       "    </tr>\n",
       "    <tr>\n",
       "      <th>2020-02-01</th>\n",
       "      <td>1.804107e+06</td>\n",
       "      <td>380494.340000</td>\n",
       "      <td>29840.130000</td>\n",
       "      <td>460.429849</td>\n",
       "      <td>496.110729</td>\n",
       "      <td>50.873453</td>\n",
       "      <td>1.201000</td>\n",
       "      <td>1.295000</td>\n",
       "      <td>1.432000</td>\n",
       "    </tr>\n",
       "  </tbody>\n",
       "</table>\n",
       "</div>"
      ],
      "text/plain": [
       "                cons_GOA     cons_GNA95    cons_GNA98    spot_GOA    spot_GNA  \\\n",
       "Date                                                                            \n",
       "2007-01-01  2.028811e+06  459030.653532  63019.746212  395.853111  383.742561   \n",
       "2007-02-01  1.979790e+06  425537.713411  60966.501392  416.684195  422.002876   \n",
       "2007-03-01  2.314793e+06  503274.794375  74170.996622  434.833042  476.939514   \n",
       "2019-12-01  1.840063e+06  410458.860000  34767.810000  546.510439  542.907143   \n",
       "2020-01-01  1.789099e+06  380321.020000  29967.040000  517.998215  534.999139   \n",
       "2020-02-01  1.804107e+06  380494.340000  29840.130000  460.429849  496.110729   \n",
       "\n",
       "            spot_Brent  price_GOA  price_GNA95  price_GNA98  \n",
       "Date                                                         \n",
       "2007-01-01   42.207328   0.883903     0.940323     1.052226  \n",
       "2007-02-01   44.977131   0.888000     0.946250     1.057107  \n",
       "2007-03-01   47.164810   0.908194     0.991258     1.100032  \n",
       "2019-12-01   58.743030   1.224000     1.303000     1.436000  \n",
       "2020-01-01   57.422037   1.241000     1.316000     1.449000  \n",
       "2020-02-01   50.873453   1.201000     1.295000     1.432000  "
      ]
     },
     "execution_count": 14,
     "metadata": {},
     "output_type": "execute_result"
    }
   ],
   "source": [
    "comb = pd.concat([cons, cot, prices],axis=1).dropna()\n",
    "pd.concat([comb.head(3), comb.tail(3)], axis=0)"
   ]
  },
  {
   "cell_type": "code",
   "execution_count": 15,
   "metadata": {},
   "outputs": [
    {
     "data": {
      "text/plain": [
       "{'GASÓLEO A': 'cons_GOA',\n",
       " 'GASOLINA  AUTO. S/PB 95 I.O.': 'cons_GNA95',\n",
       " 'GASOLINA  AUTO. S/PB 98 I.O.': 'cons_GNA98'}"
      ]
     },
     "execution_count": 15,
     "metadata": {},
     "output_type": "execute_result"
    }
   ],
   "source": [
    "cons_renaming"
   ]
  },
  {
   "cell_type": "code",
   "execution_count": 16,
   "metadata": {},
   "outputs": [],
   "source": [
    "prices_prov = pd.read_excel(INPATH + INFILE1, sheet_name ='PVP_Prov')\n",
    "prices_prov.rename(inplace=True, columns=prices_renaming)\n",
    "prices_prov = prices_prov[prices_prov['PROVINCIA']!='TOTAL'].copy()\n",
    "prices_prov['MES'] = prices_prov['MES'].replace(month_parser, range(1,len(month_parser)+1)).astype(int)\n",
    "prices_prov['Date'] = prices_prov[['AÑO', 'MES']].apply(lambda x: create_date(yr=x[0], mon=x[1], day=1), axis=1)"
   ]
  },
  {
   "cell_type": "markdown",
   "metadata": {},
   "source": [
    "# Train/Test split"
   ]
  },
  {
   "cell_type": "code",
   "execution_count": 17,
   "metadata": {},
   "outputs": [],
   "source": [
    "split_col = 'split'\n",
    "test_size = 12"
   ]
  },
  {
   "cell_type": "code",
   "execution_count": 18,
   "metadata": {},
   "outputs": [],
   "source": [
    "idx_time = comb.index\n",
    "idx_train, idx_test = idx_time[:-test_size], idx_time[-test_size:]"
   ]
  },
  {
   "cell_type": "code",
   "execution_count": 19,
   "metadata": {},
   "outputs": [
    {
     "data": {
      "text/plain": [
       "train    146\n",
       "test      12\n",
       "Name: split, dtype: int64"
      ]
     },
     "execution_count": 19,
     "metadata": {},
     "output_type": "execute_result"
    }
   ],
   "source": [
    "comb[split_col] = 'train'\n",
    "comb.loc[idx_test, split_col] = 'test'\n",
    "comb[split_col].value_counts()"
   ]
  },
  {
   "cell_type": "code",
   "execution_count": 20,
   "metadata": {},
   "outputs": [
    {
     "data": {
      "text/plain": [
       "Timestamp('2019-04-01 00:00:00')"
      ]
     },
     "execution_count": 20,
     "metadata": {},
     "output_type": "execute_result"
    }
   ],
   "source": [
    "last_date = prices_prov['Date'].max()\n",
    "TRAIN_END_DT = last_date - pd.DateOffset(months=test_size)\n",
    "TRAIN_END_DT"
   ]
  },
  {
   "cell_type": "code",
   "execution_count": 21,
   "metadata": {},
   "outputs": [
    {
     "data": {
      "text/plain": [
       "train    7696\n",
       "test      624\n",
       "Name: split, dtype: int64"
      ]
     },
     "execution_count": 21,
     "metadata": {},
     "output_type": "execute_result"
    }
   ],
   "source": [
    "prices_prov[split_col] = 'train'\n",
    "prices_prov.loc[prices_prov['Date'] >TRAIN_END_DT, split_col] = 'test'\n",
    "prices_prov[split_col].value_counts()"
   ]
  },
  {
   "cell_type": "code",
   "execution_count": 22,
   "metadata": {},
   "outputs": [],
   "source": [
    "comb.to_excel(OUTPATH + OUTFILE1)"
   ]
  },
  {
   "cell_type": "code",
   "execution_count": 23,
   "metadata": {},
   "outputs": [],
   "source": [
    "prices_prov.to_excel(OUTPATH + OUTFILE2)"
   ]
  }
 ],
 "metadata": {
  "kernelspec": {
   "display_name": "Python 3",
   "language": "python",
   "name": "python3"
  },
  "language_info": {
   "codemirror_mode": {
    "name": "ipython",
    "version": 3
   },
   "file_extension": ".py",
   "mimetype": "text/x-python",
   "name": "python",
   "nbconvert_exporter": "python",
   "pygments_lexer": "ipython3",
   "version": "3.6.10"
  }
 },
 "nbformat": 4,
 "nbformat_minor": 4
}
