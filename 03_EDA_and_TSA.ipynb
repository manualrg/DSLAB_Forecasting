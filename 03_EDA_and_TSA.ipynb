{
 "cells": [
  {
   "cell_type": "code",
   "execution_count": null,
   "metadata": {},
   "outputs": [],
   "source": [
    "%%capture\n",
    "%run 02_FeatEng.ipynb"
   ]
  },
  {
   "cell_type": "code",
   "execution_count": null,
   "metadata": {},
   "outputs": [],
   "source": [
    "import mle.tsa as mle_tsa"
   ]
  },
  {
   "cell_type": "code",
   "execution_count": null,
   "metadata": {},
   "outputs": [],
   "source": [
    "ax = data.plot(y=['cons_GNA95', 'price_GNA95'], secondary_y='price_GNA95')\n",
    "ax.set_ylabel('(t)')\n",
    "ax.right_ax.set_ylabel(\"(€/l)\")\n",
    "plt.title('GNA95: Consumo y precio medio mensual')\n",
    "plt.show()"
   ]
  },
  {
   "cell_type": "markdown",
   "metadata": {},
   "source": [
    "# Seasonality Analysis"
   ]
  },
  {
   "cell_type": "code",
   "execution_count": null,
   "metadata": {},
   "outputs": [],
   "source": [
    "ax = mle_tsa.plot_time_series_maves(x=data['cons_GNA95'], periods=[3,12])"
   ]
  },
  {
   "cell_type": "code",
   "execution_count": null,
   "metadata": {},
   "outputs": [],
   "source": [
    "ax = mle_tsa.plot_time_series_maves(x=data['cons_GNA98_diff1_sdiff12'], periods=[3,12])"
   ]
  },
  {
   "cell_type": "code",
   "execution_count": null,
   "metadata": {},
   "outputs": [],
   "source": [
    "ax = mle_tsa.plot_time_series_with_rolling(x=data['cons_GNA95'], period=3)"
   ]
  },
  {
   "cell_type": "code",
   "execution_count": null,
   "metadata": {},
   "outputs": [],
   "source": [
    "fig, axs = mle_tsa.plot_seas_model(seas_models['cons_GNA95'], title='GNA95 consumption', ylabel='(tons)')\n",
    "plt.show()"
   ]
  },
  {
   "cell_type": "code",
   "execution_count": null,
   "metadata": {},
   "outputs": [],
   "source": [
    "fig, axs = mle_tsa.plot_seas_model(seas_models['price_GNA95'], title='GNA95 price', ylabel='(€/l)')\n",
    "plt.show()"
   ]
  },
  {
   "cell_type": "markdown",
   "metadata": {},
   "source": [
    "# Stationarity Checking"
   ]
  },
  {
   "cell_type": "code",
   "execution_count": null,
   "metadata": {},
   "outputs": [],
   "source": [
    "adf_test_cols = ['cons_GNA95', 'cons_GNA95_pct_change1', 'cons_GNA95_seas_adj', 'cons_GNA95_seas_adj_pct_change1', 'cons_GNA95_seas_adj_diff1',\n",
    "                 'cons_GNA95_diff1', 'cons_GNA95_diff1_sdiff12',\n",
    "                'price_GNA95', 'price_GNA95_pct_change1', 'price_GNA95_seas_adj', 'price_GNA95_seas_adj_pct_change1', 'price_GNA95_seas_adj_diff1',\n",
    "                'price_GNA95_diff1', 'price_GNA95_diff1_sdiff12',]\n",
    "_ = mle_tsa.wrap_adfuller(data[adf_test_cols], regression='c')"
   ]
  },
  {
   "cell_type": "code",
   "execution_count": null,
   "metadata": {},
   "outputs": [],
   "source": [
    "_ = mle_tsa.wrap_adfuller(data[['cons_GNA95_seas_adj_pct_change1']], regression='ct')"
   ]
  },
  {
   "cell_type": "code",
   "execution_count": null,
   "metadata": {},
   "outputs": [],
   "source": [
    "_ = mle_tsa.wrap_kpss(data[['cons_GNA95_seas_adj_pct_change1']], regression='c', nlags='auto')"
   ]
  },
  {
   "cell_type": "code",
   "execution_count": null,
   "metadata": {},
   "outputs": [],
   "source": [
    "ax = mle_tsa.plot_time_series_with_rolling(x=data['price_GNA95_diff1_sdiff12'], period=12)"
   ]
  },
  {
   "cell_type": "code",
   "execution_count": null,
   "metadata": {},
   "outputs": [],
   "source": [
    "ax = mle_tsa.plot_time_series_with_rolling(x=data['price_GNA95_seas_adj_pct_change1'], period=12)"
   ]
  },
  {
   "cell_type": "code",
   "execution_count": null,
   "metadata": {},
   "outputs": [],
   "source": [
    "ax = mle_tsa.plot_time_series_with_rolling(x=data['cons_GNA95_seas_adj_pct_change1'], period=12)"
   ]
  },
  {
   "cell_type": "code",
   "execution_count": null,
   "metadata": {},
   "outputs": [],
   "source": [
    "ax = mle_tsa.plot_time_series_with_rolling(x=data['cons_GNA95_diff1_sdiff12'], period=12)"
   ]
  },
  {
   "cell_type": "markdown",
   "metadata": {},
   "source": [
    "# Autocorrelation"
   ]
  },
  {
   "cell_type": "code",
   "execution_count": null,
   "metadata": {},
   "outputs": [],
   "source": [
    "fig, axs   = plt.subplots(2, 1, figsize=(16,12))\n",
    "\n",
    "plot_acf(data['cons_GNA95_diff1'], lags=24, ax=axs[0])\n",
    "plot_acf(data['cons_GNA95_diff1_sdiff12'],lags=24, ax=axs[1])\n",
    "plt.show()"
   ]
  },
  {
   "cell_type": "code",
   "execution_count": null,
   "metadata": {},
   "outputs": [],
   "source": [
    "fig, axs   = plt.subplots(2, 1, figsize=(16,12))\n",
    "\n",
    "plot_acf(data['price_GNA95_diff1'], lags=24, ax=axs[0])\n",
    "plot_acf(data['price_GNA95_diff1_sdiff12'],lags=24, ax=axs[1])\n",
    "plt.show()"
   ]
  },
  {
   "cell_type": "code",
   "execution_count": null,
   "metadata": {},
   "outputs": [],
   "source": [
    "fig, axs   = plt.subplots(2, 2, figsize=(16,12))\n",
    "\n",
    "for idx_row, col in enumerate(['price_GNA95_seas_adj_pct_change1', 'cons_GNA95_seas_adj_pct_change1']):\n",
    "    plot_acf(data[col], lags=24, ax=axs[idx_row,0])\n",
    "    plot_pacf(data[col],lags=24, ax=axs[idx_row,1])\n",
    "    axs[idx_row,0].set_ylabel(col)"
   ]
  },
  {
   "cell_type": "code",
   "execution_count": null,
   "metadata": {},
   "outputs": [],
   "source": [
    "gna_corr = mle_tsa.pairwise_corr_over_time(data, 'price_GNA95_seas_adj_pct_change1', ['cons_GNA95_seas_adj_pct_change1'], 3)\n",
    "gna_corr.plot.barh()\n",
    "plt.show()"
   ]
  },
  {
   "cell_type": "code",
   "execution_count": null,
   "metadata": {},
   "outputs": [],
   "source": [
    "g = sns.jointplot('price_GNA95_seas_adj_pct_change1_lag1', 'cons_GNA95_seas_adj_pct_change1', data, kind='reg')\n",
    "plt.show()"
   ]
  },
  {
   "cell_type": "code",
   "execution_count": null,
   "metadata": {},
   "outputs": [],
   "source": [
    "week_gna = data.groupby('week')[['price_GNA95', 'cons_GNA95']].median()\n",
    "g = sns.jointplot('price_GNA95', 'cons_GNA95', week_gna, kind='reg')\n",
    "plt.show()"
   ]
  },
  {
   "cell_type": "code",
   "execution_count": null,
   "metadata": {},
   "outputs": [],
   "source": []
  },
  {
   "cell_type": "code",
   "execution_count": null,
   "metadata": {},
   "outputs": [],
   "source": []
  }
 ],
 "metadata": {
  "kernelspec": {
   "display_name": "Python 3",
   "language": "python",
   "name": "python3"
  },
  "language_info": {
   "codemirror_mode": {
    "name": "ipython",
    "version": 3
   },
   "file_extension": ".py",
   "mimetype": "text/x-python",
   "name": "python",
   "nbconvert_exporter": "python",
   "pygments_lexer": "ipython3",
   "version": "3.6.10"
  },
  "toc-autonumbering": true
 },
 "nbformat": 4,
 "nbformat_minor": 4
}
