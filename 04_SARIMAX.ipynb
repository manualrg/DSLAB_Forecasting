{
 "cells": [
  {
   "cell_type": "code",
   "execution_count": null,
   "metadata": {},
   "outputs": [],
   "source": [
    "%%capture\n",
    "%run 02_FeatEng.ipynb"
   ]
  },
  {
   "cell_type": "code",
   "execution_count": null,
   "metadata": {},
   "outputs": [],
   "source": [
    "from statsmodels.tsa.statespace.sarimax import SARIMAX\n",
    "import pmdarima as pm\n",
    "from  sklearn.metrics import mean_squared_error  as skl_mse"
   ]
  },
  {
   "cell_type": "code",
   "execution_count": null,
   "metadata": {},
   "outputs": [],
   "source": [
    "import mle.tsa as mle_tsa"
   ]
  },
  {
   "cell_type": "code",
   "execution_count": null,
   "metadata": {},
   "outputs": [],
   "source": [
    "OUTPATH = 'data/out/'\n",
    "OUTFILE = 'cons_gna95_sarimax.xlsx'"
   ]
  },
  {
   "cell_type": "markdown",
   "metadata": {},
   "source": [
    "# Split Data"
   ]
  },
  {
   "cell_type": "code",
   "execution_count": null,
   "metadata": {},
   "outputs": [],
   "source": [
    "endog_GNA95_train = (data_train['cons_GNA95']/1e3).copy()\n",
    "exog_GNA95_train = data_train[['price_GNA95_pct_change1_lag1']].copy()"
   ]
  },
  {
   "cell_type": "code",
   "execution_count": null,
   "metadata": {},
   "outputs": [],
   "source": [
    "endog_GNA95_test = (data_test['cons_GNA95']/1e3).copy()\n",
    "exog_GNA95_test = data_test[['price_GNA95_pct_change1_lag1']].copy()"
   ]
  },
  {
   "cell_type": "markdown",
   "metadata": {},
   "source": [
    "# Model Building"
   ]
  },
  {
   "cell_type": "markdown",
   "metadata": {},
   "source": [
    "## Exoeneous Autosarima"
   ]
  },
  {
   "cell_type": "code",
   "execution_count": null,
   "metadata": {},
   "outputs": [],
   "source": [
    "# cast into kts\n",
    "autosarima_gna95 = pm.auto_arima(y=endog_GNA95_train,\n",
    "                                start_p=0, max_p=3,\n",
    "                                start_q=0,max_q=3,\n",
    "                                 trend='n', with_intercept=False,\n",
    "                                d=1,\n",
    "                                seasonal=True,\n",
    "                                m=12, D=1,\n",
    "                                start_P=0, max_P=3,\n",
    "                                start_Q=0, max_Q=3,\n",
    "                                information_criterion ='bic',\n",
    "                              trace=True,\n",
    "                             error_action='ignore',  \n",
    "                             suppress_warnings=True, \n",
    "                             stepwise=True)"
   ]
  },
  {
   "cell_type": "code",
   "execution_count": null,
   "metadata": {},
   "outputs": [],
   "source": [
    "autosarima_gna95.summary()"
   ]
  },
  {
   "cell_type": "markdown",
   "metadata": {},
   "source": [
    "## Exogeneous SARIMAX"
   ]
  },
  {
   "cell_type": "code",
   "execution_count": null,
   "metadata": {},
   "outputs": [],
   "source": [
    "sarima_gna95_exo = SARIMAX(endog=endog_GNA95_train, exog=exog_GNA95_train,\n",
    "                           order=(2,1,0), seasonal_order=(0,1,1,12), trend='n')\n",
    "sarima_gna95_exo = sarima_gna95_exo.fit()\n",
    "sarima_gna95_exo.summary()"
   ]
  },
  {
   "cell_type": "markdown",
   "metadata": {},
   "source": [
    "## Selected Model Diagnostics"
   ]
  },
  {
   "cell_type": "code",
   "execution_count": null,
   "metadata": {},
   "outputs": [],
   "source": [
    "sarima_gna95_exo.plot_diagnostics(figsize=(16,16))\n",
    "plt.show()"
   ]
  },
  {
   "cell_type": "markdown",
   "metadata": {},
   "source": [
    "## Prediction"
   ]
  },
  {
   "cell_type": "code",
   "execution_count": null,
   "metadata": {},
   "outputs": [],
   "source": [
    "p_gna95_train = sarima_gna95_exo.predict().to_frame('p_cons_GNA95')[1:]*1e3\n",
    "p_gna95_train[['lower p_cons_GNA95', 'upper p_cons_GNA95']] =  sarima_gna95_exo.get_prediction().conf_int()[13:]*1e3\n",
    "p_gna95_train['cons_GNA95'] = endog_GNA95_train*1e3\n",
    "p_gna95_train['model'] = 'sarimax'\n",
    "p_gna95_train['split'] = 'train'\n",
    "p_gna95_train.index = p_gna95_train.index.date"
   ]
  },
  {
   "cell_type": "markdown",
   "metadata": {},
   "source": [
    "# Forecast"
   ]
  },
  {
   "cell_type": "code",
   "execution_count": null,
   "metadata": {},
   "outputs": [],
   "source": [
    "sarima_gna95_exo_upd, p_gna95_test = mle_tsa.exog_forecast(\n",
    "    train_endog=endog_GNA95_train,\n",
    "    train_exog=exog_GNA95_train,\n",
    "    test_endog=endog_GNA95_test,\n",
    "    test_exog=exog_GNA95_test,\n",
    "    res=sarima_gna95_exo)"
   ]
  },
  {
   "cell_type": "code",
   "execution_count": null,
   "metadata": {},
   "outputs": [],
   "source": [
    "p_gna95_test = p_gna95_test.rename(columns={'lower cons_GNA95': 'lower p_cons_GNA95', 'upper cons_GNA95': 'upper p_cons_GNA95'})\n",
    "p_gna95_test.index = pd.to_datetime(p_gna95_test.index)\n",
    "p_gna95_test['cons_GNA95'] = endog_GNA95_test\n",
    "p_gna95_test= p_gna95_test*1e3"
   ]
  },
  {
   "cell_type": "code",
   "execution_count": null,
   "metadata": {},
   "outputs": [],
   "source": [
    "fig, axs = plt.subplots(2,1, sharex=True)\n",
    "\n",
    "plt.suptitle(\"Forecasting Consumo GNA95\")\n",
    "ax = axs[0]\n",
    "p_gna95_test.plot(label='forecast', y = 'p_cons_GNA95', ax=ax)\n",
    "p_gna95_test.plot(y='cons_GNA95', label='actual', style='o', ax=ax)\n",
    "ax.fill_between(p_gna95_test.index, p_gna95_test['lower p_cons_GNA95'], p_gna95_test['upper p_cons_GNA95'], color='k', alpha=0.1)\n",
    "ax.set_ylabel(\"(t)\")\n",
    "\n",
    "ax = axs[1]\n",
    "exog_GNA95_test.plot( y = 'price_GNA95_pct_change1_lag1', ax=ax)\n",
    "ax.set_ylabel(\"(€/l)\")\n",
    "\n",
    "plt.legend()\n",
    "plt.show()"
   ]
  },
  {
   "cell_type": "markdown",
   "metadata": {},
   "source": [
    "# Model Assessment"
   ]
  },
  {
   "cell_type": "code",
   "execution_count": null,
   "metadata": {},
   "outputs": [],
   "source": [
    "p_gna95_test['split'] = 'test'\n",
    "p_gna95_test['model'] = 'sarimax'\n",
    "p_gna95_test.index = p_gna95_test.index.date"
   ]
  },
  {
   "cell_type": "code",
   "execution_count": null,
   "metadata": {},
   "outputs": [],
   "source": [
    "skl_mse(p_gna95_test['p_cons_GNA95']*1e3, data_test['cons_GNA95'])**0.5"
   ]
  },
  {
   "cell_type": "code",
   "execution_count": null,
   "metadata": {},
   "outputs": [],
   "source": [
    "mle_tsa.compute_ape(p_gna95_test['p_cons_GNA95'], data_test['cons_GNA95']).mean()"
   ]
  },
  {
   "cell_type": "code",
   "execution_count": null,
   "metadata": {},
   "outputs": [],
   "source": [
    "select_cols = ['model', 'split', 'cons_GNA95', 'p_cons_GNA95', 'lower p_cons_GNA95', 'upper p_cons_GNA95']\n",
    "\n",
    "pd.concat([p_gna95_train, p_gna95_test], axis=0)[select_cols]#.to_excel(OUTPATH + OUTFILE, index_label='Date')"
   ]
  },
  {
   "cell_type": "code",
   "execution_count": null,
   "metadata": {},
   "outputs": [],
   "source": []
  }
 ],
 "metadata": {
  "kernelspec": {
   "display_name": "Python 3",
   "language": "python",
   "name": "python3"
  },
  "language_info": {
   "codemirror_mode": {
    "name": "ipython",
    "version": 3
   },
   "file_extension": ".py",
   "mimetype": "text/x-python",
   "name": "python",
   "nbconvert_exporter": "python",
   "pygments_lexer": "ipython3",
   "version": "3.6.10"
  },
  "toc-autonumbering": true
 },
 "nbformat": 4,
 "nbformat_minor": 4
}
