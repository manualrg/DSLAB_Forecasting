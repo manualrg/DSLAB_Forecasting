{
 "cells": [
  {
   "cell_type": "code",
   "execution_count": null,
   "metadata": {},
   "outputs": [],
   "source": [
    "import pandas as pd\n",
    "import numpy as np\n",
    "import datetime as dt\n",
    "import matplotlib.pyplot as plt\n",
    "import seaborn as sns\n",
    "import os"
   ]
  },
  {
   "cell_type": "code",
   "execution_count": null,
   "metadata": {},
   "outputs": [],
   "source": [
    "from statsmodels.tsa.holtwinters import ExponentialSmoothing "
   ]
  },
  {
   "cell_type": "code",
   "execution_count": null,
   "metadata": {},
   "outputs": [],
   "source": [
    "plt.style.use('seaborn')\n",
    "plt.rcParams.update({'figure.figsize': (16,8)})\n",
    "sns.set_context(\"talk\")"
   ]
  },
  {
   "cell_type": "code",
   "execution_count": null,
   "metadata": {},
   "outputs": [],
   "source": [
    "INPATH = \"data/\"\n",
    "# src: https://www.ine.es/dyngs/INEbase/es/categoria.htm?c=Estadistica_P&cid=1254735576863\n",
    "INFILE1 = \"10822bsc.csv\"  # Número de turistas según país de residencia\n",
    "INFILE2 = \"13938bsc.csv\"  # Gasto de los turistas internacionales según partidas de gasto"
   ]
  },
  {
   "cell_type": "code",
   "execution_count": null,
   "metadata": {},
   "outputs": [],
   "source": [
    "visits_df = pd.read_csv(INPATH + INFILE1, delimiter=';',  decimal=',', thousands='.', encoding='ANSI')\n",
    "visits_df['Date'] = pd.to_datetime(visits_df['Periodo'], format='%YM%m')\n",
    "visits_df['yr'] = visits_df['Date'].dt.year\n",
    "visits_df.pivot(index='Date', columns='País de residencia', values='Total').head(3)"
   ]
  },
  {
   "cell_type": "code",
   "execution_count": null,
   "metadata": {},
   "outputs": [],
   "source": [
    "exp_df = pd.read_csv(INPATH + INFILE2, delimiter=';',  decimal=',', thousands='.', encoding='ANSI')\n",
    "exp_df['Date'] = pd.to_datetime(exp_df['Periodo'], format='%YM%m')\n",
    "exp_df['yr'] = exp_df['Date'].dt.year\n",
    "exp_df.pivot(index='Date', columns='Partidas de gasto', values='Total').head(3)"
   ]
  },
  {
   "cell_type": "code",
   "execution_count": null,
   "metadata": {},
   "outputs": [],
   "source": [
    "select_cols = ['Date', 'Total']\n",
    "exp_tot_df = exp_df.loc[exp_df['Partidas de gasto'] == 'Gasto total', select_cols].\\\n",
    "    rename(columns={'Total': 'exp_total'}).set_index('Date')\n",
    "visits_tot_df = visits_df.loc[visits_df['País de residencia'] == 'Total', select_cols]\\\n",
    "    .rename(columns={'Total': 'visit_total'}).set_index('Date')"
   ]
  },
  {
   "cell_type": "code",
   "execution_count": null,
   "metadata": {},
   "outputs": [],
   "source": [
    "data = visits_tot_df.merge(exp_tot_df, how='inner', left_index=True, right_index=True).sort_index()\n",
    "data.index.freq = 'MS'\n",
    "data.info()\n"
   ]
  },
  {
   "cell_type": "code",
   "execution_count": null,
   "metadata": {},
   "outputs": [],
   "source": [
    "sns.jointplot(data=data, x='visit_total', y='exp_total', kind='reg')"
   ]
  },
  {
   "cell_type": "code",
   "execution_count": null,
   "metadata": {},
   "outputs": [],
   "source": [
    "data.plot(secondary_y='exp_total')\n",
    "plt.show()"
   ]
  },
  {
   "cell_type": "code",
   "execution_count": null,
   "metadata": {},
   "outputs": [],
   "source": [
    "tour = visits_df.loc[visits_df['País de residencia'] == 'Total', ['Date', 'Total', 'yr']]"
   ]
  },
  {
   "cell_type": "code",
   "execution_count": null,
   "metadata": {},
   "outputs": [],
   "source": [
    "sns.barplot(data=tour, x='yr', y='Total', estimator=np.sum)"
   ]
  },
  {
   "cell_type": "code",
   "execution_count": null,
   "metadata": {},
   "outputs": [],
   "source": [
    "tour.groupby('yr')['Total'].sum()"
   ]
  },
  {
   "cell_type": "code",
   "execution_count": null,
   "metadata": {},
   "outputs": [],
   "source": [
    "tour.groupby('yr')['Total'].sum().pct_change()"
   ]
  },
  {
   "cell_type": "code",
   "execution_count": null,
   "metadata": {},
   "outputs": [],
   "source": [
    "visits_qtr = pd.read_csv(INPATH + INFILE1, delimiter=';',  decimal=',', thousands='.',  encoding='ANSI')\n",
    "visits_qtr['qtr'] = pd.to_datetime(visits_qtr['Periodo'], format='%YM%m')\n",
    "visits_qtr['yr'] = visits_qtr['qtr'].dt.year\n",
    "visits_qtr"
   ]
  },
  {
   "cell_type": "code",
   "execution_count": null,
   "metadata": {},
   "outputs": [],
   "source": [
    "visits_qtr.groupby('yr')['Total'].sum()"
   ]
  },
  {
   "cell_type": "code",
   "execution_count": null,
   "metadata": {},
   "outputs": [],
   "source": [
    "endog_train = data.loc[:'2019', 'visit_total'].copy()\n",
    "hw = ExponentialSmoothing(endog=endog_train, trend='additive', damped=True, seasonal='additive', seasonal_periods=12)\n",
    "hw_res = hw.fit(optimized=True)"
   ]
  },
  {
   "cell_type": "code",
   "execution_count": null,
   "metadata": {},
   "outputs": [],
   "source": [
    "hw_preds = pd.Series(index=endog_train.index, data=hw_res.fittedvalues, name='p_visit_total')"
   ]
  },
  {
   "cell_type": "code",
   "execution_count": null,
   "metadata": {},
   "outputs": [],
   "source": [
    "hw_res.summary()"
   ]
  },
  {
   "cell_type": "code",
   "execution_count": null,
   "metadata": {},
   "outputs": [],
   "source": [
    "ax = hw_preds.plot(label='predicted')\n",
    "data.loc[:'2019', 'visit_total'].plot(label='actual', style='o', ax=ax)\n",
    "plt.title('Total mensual de visitas totales en España')\n",
    "plt.legend()\n",
    "plt.show()"
   ]
  },
  {
   "cell_type": "code",
   "execution_count": null,
   "metadata": {},
   "outputs": [],
   "source": []
  }
 ],
 "metadata": {
  "kernelspec": {
   "display_name": "Python 3",
   "language": "python",
   "name": "python3"
  },
  "language_info": {
   "codemirror_mode": {
    "name": "ipython",
    "version": 3
   },
   "file_extension": ".py",
   "mimetype": "text/x-python",
   "name": "python",
   "nbconvert_exporter": "python",
   "pygments_lexer": "ipython3",
   "version": "3.6.10"
  }
 },
 "nbformat": 4,
 "nbformat_minor": 4
}
