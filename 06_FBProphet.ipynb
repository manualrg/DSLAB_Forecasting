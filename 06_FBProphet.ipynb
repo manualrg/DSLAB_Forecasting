{
 "cells": [
  {
   "cell_type": "code",
   "execution_count": null,
   "metadata": {},
   "outputs": [],
   "source": [
    "%%capture\n",
    "%run 02_FeatEng.ipynb"
   ]
  },
  {
   "cell_type": "code",
   "execution_count": null,
   "metadata": {},
   "outputs": [],
   "source": [
    "from fbprophet import Prophet\n",
    "from  sklearn.metrics import mean_squared_error  as skl_mse"
   ]
  },
  {
   "cell_type": "code",
   "execution_count": null,
   "metadata": {},
   "outputs": [],
   "source": [
    "import mle.tsa as mle_tsa"
   ]
  },
  {
   "cell_type": "code",
   "execution_count": null,
   "metadata": {},
   "outputs": [],
   "source": [
    "OUTPATH = 'data/out/'\n",
    "OUTFILE = 'cons_gna95_fbprophet.xlsx'"
   ]
  },
  {
   "cell_type": "markdown",
   "metadata": {},
   "source": [
    "# Split Data"
   ]
  },
  {
   "cell_type": "code",
   "execution_count": null,
   "metadata": {},
   "outputs": [],
   "source": [
    "endog_GNA95_train = data_train.loc['2010':, ['cons_GNA95']].copy()\n",
    "endog_GNA95_train['y'] = np.log(endog_GNA95_train['cons_GNA95'])\n",
    "endog_GNA95_train['ds'] = endog_GNA95_train.index.strftime(\"%Y-%m-%d\")"
   ]
  },
  {
   "cell_type": "code",
   "execution_count": null,
   "metadata": {},
   "outputs": [],
   "source": [
    "endog_GNA95_test = data_test[['cons_GNA95']].copy()\n",
    "endog_GNA95_test['y'] = np.log(endog_GNA95_test['cons_GNA95'])\n",
    "endog_GNA95_test['ds'] = endog_GNA95_test.index.strftime(\"%Y-%m-%d\")"
   ]
  },
  {
   "cell_type": "markdown",
   "metadata": {},
   "source": [
    "# Model Building\n",
    "* In prophet multistep forecasting is done by default"
   ]
  },
  {
   "cell_type": "code",
   "execution_count": null,
   "metadata": {},
   "outputs": [],
   "source": [
    "mod_prophet = Prophet()\n",
    "res_prophet = mod_prophet.fit(df=endog_GNA95_train[['ds', 'y']])"
   ]
  },
  {
   "cell_type": "code",
   "execution_count": null,
   "metadata": {},
   "outputs": [],
   "source": [
    "future = mod_prophet.make_future_dataframe(periods=12, freq='M')\n",
    "future.tail()"
   ]
  },
  {
   "cell_type": "code",
   "execution_count": null,
   "metadata": {},
   "outputs": [],
   "source": [
    "forecast = res_prophet.predict(future)\n",
    "forecast[['ds', 'yhat', 'yhat_lower', 'yhat_upper']].tail()"
   ]
  },
  {
   "cell_type": "code",
   "execution_count": null,
   "metadata": {},
   "outputs": [],
   "source": [
    "fig1 = res_prophet.plot(forecast)\n",
    "plt.title('GNA95 forecast')\n",
    "plt.ylabel(r'ln(cons GNA95)')\n",
    "plt.show()"
   ]
  },
  {
   "cell_type": "code",
   "execution_count": null,
   "metadata": {},
   "outputs": [],
   "source": [
    "fig2 = res_prophet.plot_components(forecast)\n",
    "plt.suptitle('GNA95 model components: ln(cons GNA95)', y=1.02)\n",
    "plt.show()"
   ]
  },
  {
   "cell_type": "markdown",
   "metadata": {},
   "source": [
    "## Prediction"
   ]
  },
  {
   "cell_type": "code",
   "execution_count": null,
   "metadata": {},
   "outputs": [],
   "source": [
    "rename_fbprophet = {'yhat_lower': 'lower p_cons_GNA95', 'yhat_upper': 'upper p_cons_GNA95', 'yhat': 'p_cons_GNA95'}\n",
    "\n",
    "p_gna95_train = np.exp(forecast[['yhat_lower', 'yhat_upper', 'yhat']]).rename(columns=rename_fbprophet)\n",
    "\n",
    "p_gna95_train.index = forecast['ds'].dt.date\n",
    "p_gna95_train.index.name = 'Date' \n",
    "\n",
    "p_gna95_train['cons_GNA95'] = endog_GNA95_train['cons_GNA95']\n",
    "\n",
    "p_gna95_train['model'] = 'fbprophet'\n",
    "p_gna95_train['split'] = 'train'"
   ]
  },
  {
   "cell_type": "markdown",
   "metadata": {},
   "source": [
    "# Forecasting"
   ]
  },
  {
   "cell_type": "markdown",
   "metadata": {},
   "source": [
    "## Multistep Forecasting"
   ]
  },
  {
   "cell_type": "code",
   "execution_count": null,
   "metadata": {},
   "outputs": [],
   "source": [
    "mstep_forecast_test = forecast[-12:]\n",
    "mstep_forecast_test.index = pd.to_datetime(mstep_forecast_test['ds'])\n",
    "mstep_forecast_test = mstep_forecast_test.resample('MS').first()\n",
    "mstep_forecast_test = np.exp(mstep_forecast_test[['yhat_lower', 'yhat_upper', 'yhat']]).rename(columns=rename_fbprophet)\n",
    "\n",
    "mstep_forecast_test.tail()"
   ]
  },
  {
   "cell_type": "code",
   "execution_count": null,
   "metadata": {},
   "outputs": [],
   "source": [
    "fig = plt.figure(figsize = (16,8))\n",
    "ax = fig.add_subplot(111)\n",
    "\n",
    "mstep_forecast_test.plot(y='p_cons_GNA95', label='forecast', ax=ax)\n",
    "ax.fill_between(x=mstep_forecast_test.index, y1=mstep_forecast_test['upper p_cons_GNA95'], y2=mstep_forecast_test['lower p_cons_GNA95'],  color='k', alpha=0.1)\n",
    "endog_GNA95_test['cons_GNA95'].plot(ax=ax, y='cons_GNA95', style='o', label='actual')\n",
    "plt.legend()\n",
    "plt.show()"
   ]
  },
  {
   "cell_type": "code",
   "execution_count": null,
   "metadata": {},
   "outputs": [],
   "source": [
    "mle_tsa.compute_ape(endog_GNA95_test['cons_GNA95'], mstep_forecast_test['p_cons_GNA95']).mean()"
   ]
  },
  {
   "cell_type": "markdown",
   "metadata": {},
   "source": [
    "# Single Step Forecasting"
   ]
  },
  {
   "cell_type": "code",
   "execution_count": null,
   "metadata": {},
   "outputs": [],
   "source": [
    "forecast_mods, forecast_test = mle_tsa.prophet_endog_forecast(train_endog=endog_GNA95_train, test_endog=endog_GNA95_test)"
   ]
  },
  {
   "cell_type": "code",
   "execution_count": null,
   "metadata": {},
   "outputs": [],
   "source": [
    "p_gna95_test = np.exp(forecast_test[['yhat_lower', 'yhat_upper', 'yhat']]).rename(columns=rename_fbprophet)\n",
    "\n",
    "p_gna95_test.index = forecast_test['ds'].dt.date\n",
    "p_gna95_test.index.name = 'Date'\n",
    "\n",
    "p_gna95_test['cons_GNA95'] = endog_GNA95_test['cons_GNA95'].copy()\n",
    "\n",
    "p_gna95_test['model'] = 'fbprophet'\n",
    "p_gna95_test['split'] = 'test'"
   ]
  },
  {
   "cell_type": "code",
   "execution_count": null,
   "metadata": {},
   "outputs": [],
   "source": [
    "fig = plt.figure(figsize = (16,8))\n",
    "ax = fig.add_subplot(111)\n",
    "\n",
    "p_gna95_test.plot(y='p_cons_GNA95', label='forecast', ax=ax)\n",
    "ax.fill_between(x=p_gna95_test.index, y1=p_gna95_test['upper p_cons_GNA95'], y2=p_gna95_test['lower p_cons_GNA95'],  color='k', alpha=0.1)\n",
    "p_gna95_test.plot(ax=ax, y='cons_GNA95', style='o', label='actual')\n",
    "plt.suptitle(\"Forecasting Consumo GNA95\")\n",
    "plt.ylabel('t')\n",
    "plt.legend()\n",
    "plt.show()"
   ]
  },
  {
   "cell_type": "markdown",
   "metadata": {},
   "source": [
    "# Model Assessment"
   ]
  },
  {
   "cell_type": "code",
   "execution_count": null,
   "metadata": {},
   "outputs": [],
   "source": [
    "skl_mse(np.log(endog_GNA95_test['cons_GNA95']/1e3), forecast_test['yhat'])**0.5"
   ]
  },
  {
   "cell_type": "code",
   "execution_count": null,
   "metadata": {},
   "outputs": [],
   "source": [
    "mle_tsa.compute_ape(p_gna95_test['cons_GNA95'], p_gna95_test['p_cons_GNA95']).mean()"
   ]
  },
  {
   "cell_type": "code",
   "execution_count": null,
   "metadata": {},
   "outputs": [],
   "source": [
    "select_cols = ['model', 'split', 'cons_GNA95', 'p_cons_GNA95', 'lower p_cons_GNA95', 'upper p_cons_GNA95']\n",
    "\n",
    "pd.concat([p_gna95_train, p_gna95_test], axis=0)[select_cols].to_excel(OUTPATH + OUTFILE, index_label='Date')"
   ]
  },
  {
   "cell_type": "code",
   "execution_count": null,
   "metadata": {},
   "outputs": [],
   "source": []
  }
 ],
 "metadata": {
  "kernelspec": {
   "display_name": "Python 3",
   "language": "python",
   "name": "python3"
  },
  "language_info": {
   "codemirror_mode": {
    "name": "ipython",
    "version": 3
   },
   "file_extension": ".py",
   "mimetype": "text/x-python",
   "name": "python",
   "nbconvert_exporter": "python",
   "pygments_lexer": "ipython3",
   "version": "3.6.10"
  }
 },
 "nbformat": 4,
 "nbformat_minor": 4
}
