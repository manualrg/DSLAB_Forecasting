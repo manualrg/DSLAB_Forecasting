{
 "cells": [
  {
   "cell_type": "code",
   "execution_count": null,
   "metadata": {},
   "outputs": [],
   "source": [
    "import numpy as np\n",
    "import pandas as pd\n",
    "import matplotlib.pyplot as plt\n",
    "import seaborn as sns\n",
    "\n",
    "import statsmodels.api as sm"
   ]
  },
  {
   "cell_type": "code",
   "execution_count": null,
   "metadata": {},
   "outputs": [],
   "source": [
    "import mle.tsa as mle_tsa"
   ]
  },
  {
   "cell_type": "code",
   "execution_count": null,
   "metadata": {},
   "outputs": [],
   "source": [
    "plt.style.use('seaborn')\n",
    "plt.rcParams.update({'figure.figsize': (16,8)})\n",
    "sns.set_context(\"talk\")"
   ]
  },
  {
   "cell_type": "code",
   "execution_count": null,
   "metadata": {},
   "outputs": [],
   "source": [
    "INPATH = \"data/\"\n",
    "INFILE1 = \"EIA_Europe_Brent_Spot_Price_FOB.csv\"\n",
    "INFILE2 = \"EIA_Cushing_OK_WTI_Spot_Price_FOB.csv\""
   ]
  },
  {
   "cell_type": "code",
   "execution_count": null,
   "metadata": {},
   "outputs": [],
   "source": [
    "brent = pd.read_csv(INPATH + INFILE1, skiprows=4, parse_dates=['Day'], index_col='Day').sort_index()\n",
    "brent.index.name = 'Date'\n",
    "brent.columns = ['brent']\n",
    "brent.info()"
   ]
  },
  {
   "cell_type": "code",
   "execution_count": null,
   "metadata": {},
   "outputs": [],
   "source": [
    "brent_plot = brent['2018':'2019'].copy()"
   ]
  },
  {
   "cell_type": "code",
   "execution_count": null,
   "metadata": {},
   "outputs": [],
   "source": [
    "brent_plot_diff = brent_plot.diff()\n",
    "brent_plot_diff .name ='brent diffs'"
   ]
  },
  {
   "cell_type": "code",
   "execution_count": null,
   "metadata": {},
   "outputs": [],
   "source": [
    "fig, axs = plt.subplots(1,3, gridspec_kw={'width_ratios': [0.35, 0.35, 0.3]}, figsize=(16,6))\n",
    "\n",
    "ax = axs[0]\n",
    "brent_plot.plot(label='Brent daily spot', ax=ax)\n",
    "ax.set_ylabel('USD/bbl')\n",
    "\n",
    "ax = axs[1]\n",
    "brent_plot_diff.plot(label='Brent daily differences', ax=ax)\n",
    "\n",
    "ax = axs[2]\n",
    "sns.distplot(brent_plot_diff, vertical=True, ax=ax)\n",
    "plt.show()"
   ]
  },
  {
   "cell_type": "code",
   "execution_count": null,
   "metadata": {},
   "outputs": [],
   "source": [
    "wti = pd.read_csv(INPATH + INFILE2, skiprows=4, parse_dates=['Day'], index_col='Day').sort_index()\n",
    "wti.index.name = 'Date'\n",
    "wti.columns = ['wti']\n",
    "wti.info()"
   ]
  },
  {
   "cell_type": "code",
   "execution_count": null,
   "metadata": {},
   "outputs": [],
   "source": [
    "data = brent\n",
    "data['wti'] = wti"
   ]
  },
  {
   "cell_type": "code",
   "execution_count": null,
   "metadata": {},
   "outputs": [],
   "source": [
    "data['brent_diff5'] = (data['brent'] - data['brent'].shift(5)) / data['brent']\n",
    "data['brent_fret5'] = (data['brent'].shift(-5) - data['brent'])/data['brent']"
   ]
  },
  {
   "cell_type": "code",
   "execution_count": null,
   "metadata": {},
   "outputs": [],
   "source": [
    "data['brent_mave5'] = data['brent'].rolling(10).mean()\n",
    "data['brent_mstd5'] = data['brent'].rolling(10).std()\n",
    "data['brent_z_std'] = (data['brent']-data['brent_mave5'])/data['brent_mstd5']"
   ]
  },
  {
   "cell_type": "code",
   "execution_count": null,
   "metadata": {},
   "outputs": [],
   "source": [
    "data['brent_mave20'] = data['brent'].rolling(20).mean()\n",
    "data['brent_mave60'] = data['brent'].rolling(60).mean()\n",
    "data['brent_mstd20'] = data['brent'].rolling(20).std()\n",
    "data['brent_z_std'] = (data['brent']-data['brent_mave20'])/data['brent_mstd20']\n",
    "\n",
    "data['brent_plus_1sigma'] = data['brent_mave20'] + data['brent_mstd20']\n",
    "data['brent_minus_1sigma'] = data['brent_mave20'] - data['brent_mstd20']\n",
    "\n",
    "data['brent_plus_2sigma'] = data['brent_mave20'] + 2*data['brent_mstd20']\n",
    "data['brent_minus_2sigma'] = data['brent_mave20'] - 2*data['brent_mstd20']\n",
    "\n",
    "data = data.dropna()['2013':].copy()"
   ]
  },
  {
   "cell_type": "code",
   "execution_count": null,
   "metadata": {},
   "outputs": [],
   "source": [
    "data['2019'].plot(y=['brent', 'brent_mave20', 'brent_plus_2sigma', 'brent_minus_2sigma'])\n",
    "plt.title(r'Brent 2$\\sigma$ bands 2019')\n",
    "plt.ylabel('(USD/bbl)')\n",
    "plt.show()"
   ]
  },
  {
   "cell_type": "code",
   "execution_count": null,
   "metadata": {},
   "outputs": [],
   "source": [
    "data['2019'].plot(y=['brent', 'brent_mave20', 'brent_mave60'])\n",
    "plt.title('Brent moving average analysis in 2019')\n",
    "plt.ylabel('(USD/bbl)')\n",
    "plt.show()"
   ]
  },
  {
   "cell_type": "code",
   "execution_count": null,
   "metadata": {},
   "outputs": [],
   "source": [
    "fig, axs = plt.subplots(1,2)\n",
    "\n",
    "data['2014': '2015'].plot(y=['brent', 'brent_mave20', 'brent_mave60'], ax=axs[0])\n",
    "axs[0].set_title('Brent MACD analysis in 2014-2015')\n",
    "\n",
    "data['2020'].plot(y=['brent', 'brent_mave20', 'brent_mave60'], ax=axs[1])\n",
    "axs[1].set_title('Brent MACD analysis in 2020')\n",
    "\n",
    "for ax in axs:\n",
    "    ax.set_ylabel('(USD/bbl)')\n",
    "plt.show()"
   ]
  },
  {
   "cell_type": "code",
   "execution_count": null,
   "metadata": {},
   "outputs": [],
   "source": [
    "brent_vs_wti_lr = sm.OLS(data['brent'], data['wti'])\n",
    "brent_vs_wti_lr = brent_vs_wti_lr.fit()\n",
    "brent_vs_wti_lr.summary()"
   ]
  },
  {
   "cell_type": "code",
   "execution_count": null,
   "metadata": {},
   "outputs": [],
   "source": [
    "data['r_brent_vs_wti'] = brent_vs_wti_lr.resid"
   ]
  },
  {
   "cell_type": "code",
   "execution_count": null,
   "metadata": {},
   "outputs": [],
   "source": [
    "mle_tsa.wrap_adfuller(data[['r_brent_vs_wti']], regression='c')"
   ]
  },
  {
   "cell_type": "code",
   "execution_count": null,
   "metadata": {},
   "outputs": [],
   "source": [
    "data.loc['2018':'2019', 'r_brent_vs_wti'].describe()"
   ]
  },
  {
   "cell_type": "code",
   "execution_count": null,
   "metadata": {},
   "outputs": [],
   "source": [
    "fig, axs = plt.subplots(2,2, sharex='col', sharey='row', gridspec_kw={'width_ratios': [0.7, 0.3]})\n",
    "\n",
    "plt.suptitle('Brent vs WTI (2018-2019)')\n",
    "data['2018':'2019'].plot(y=['brent', 'wti'], ax=axs[0,0])\n",
    "sns.distplot(data.loc['2018':'2019', 'brent'], vertical=True, ax=axs[0,1])\n",
    "sns.distplot(data.loc['2018':'2019', 'wti'], vertical=True, ax=axs[0,1])\n",
    "\n",
    "data['2018':'2019'].plot(y='r_brent_vs_wti', ax=axs[1,0])\n",
    "sns.distplot(data.loc['2018':'2019', 'r_brent_vs_wti'],  vertical=True, ax=axs[1,1])\n",
    "\n",
    "for ax in axs[1,:]:\n",
    "    ax.axhline(0.5, color='orange')\n",
    "    ax.axhline(5, color='orange')\n",
    "\n",
    "for ax in axs[:,0]:\n",
    "    ax.set_ylabel('(USD/bbl)')\n",
    "    \n",
    "plt.show()"
   ]
  },
  {
   "cell_type": "code",
   "execution_count": null,
   "metadata": {},
   "outputs": [],
   "source": [
    "data['brent_fret5'] = (data['brent'].shift(-5) - data['brent'])/data['brent']\n",
    "data[['r_brent_vs_wti', 'brent_fret5']].corr()"
   ]
  },
  {
   "cell_type": "code",
   "execution_count": null,
   "metadata": {},
   "outputs": [],
   "source": [
    "data['r_brent_vs_wti'].plot()"
   ]
  },
  {
   "cell_type": "code",
   "execution_count": null,
   "metadata": {},
   "outputs": [],
   "source": []
  }
 ],
 "metadata": {
  "kernelspec": {
   "display_name": "Python 3",
   "language": "python",
   "name": "python3"
  },
  "language_info": {
   "codemirror_mode": {
    "name": "ipython",
    "version": 3
   },
   "file_extension": ".py",
   "mimetype": "text/x-python",
   "name": "python",
   "nbconvert_exporter": "python",
   "pygments_lexer": "ipython3",
   "version": "3.6.10"
  }
 },
 "nbformat": 4,
 "nbformat_minor": 4
}
