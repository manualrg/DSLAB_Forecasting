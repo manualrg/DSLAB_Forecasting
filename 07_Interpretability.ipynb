{
 "cells": [
  {
   "cell_type": "code",
   "execution_count": null,
   "metadata": {},
   "outputs": [],
   "source": [
    "%%capture\n",
    "%run 02_FeatEng.ipynb"
   ]
  },
  {
   "cell_type": "code",
   "execution_count": null,
   "metadata": {},
   "outputs": [],
   "source": [
    "from sklearn.neural_network import MLPRegressor\n",
    "from sklearn.ensemble import RandomForestRegressor\n",
    "from sklearn.model_selection import GridSearchCV\n",
    "from sklearn.model_selection import TimeSeriesSplit\n",
    "from sklearn.metrics import mean_squared_error  as skl_mse"
   ]
  },
  {
   "cell_type": "code",
   "execution_count": null,
   "metadata": {},
   "outputs": [],
   "source": [
    "import mle.tsa as mle_tsa"
   ]
  },
  {
   "cell_type": "code",
   "execution_count": null,
   "metadata": {},
   "outputs": [],
   "source": [
    "import shap \n",
    "shap.initjs()"
   ]
  },
  {
   "cell_type": "markdown",
   "metadata": {},
   "source": [
    "# Split Data"
   ]
  },
  {
   "cell_type": "code",
   "execution_count": null,
   "metadata": {},
   "outputs": [],
   "source": [
    "all_features = curr_features + seas_features + extra_features\n",
    "target = 'cons_GNA95_pct_change1_t1'"
   ]
  },
  {
   "cell_type": "code",
   "execution_count": null,
   "metadata": {},
   "outputs": [],
   "source": [
    "x_train = data_train[all_features].copy()\n",
    "y_train = data_train[target].copy()"
   ]
  },
  {
   "cell_type": "code",
   "execution_count": null,
   "metadata": {},
   "outputs": [],
   "source": [
    "x_test = data_test[all_features].copy()\n",
    "y_test = data_test[target].copy()"
   ]
  },
  {
   "cell_type": "code",
   "execution_count": null,
   "metadata": {},
   "outputs": [],
   "source": [
    "tscv = TimeSeriesSplit(n_splits=3)"
   ]
  },
  {
   "cell_type": "code",
   "execution_count": null,
   "metadata": {},
   "outputs": [],
   "source": [
    "fig, axs = plt.subplots(3,1, sharex=True)\n",
    "\n",
    "for i, (train_index, val_index) in enumerate(tscv.split(y_train)):\n",
    "    axs[i].plot(y_train[train_index],label='train')\n",
    "    axs[i].plot(y_train[val_index],label='valid')"
   ]
  },
  {
   "cell_type": "markdown",
   "metadata": {},
   "source": [
    "# Model Building"
   ]
  },
  {
   "cell_type": "code",
   "execution_count": null,
   "metadata": {},
   "outputs": [],
   "source": [
    "rf  = RandomForestRegressor(criterion='mse', n_estimators=100, bootstrap=True, oob_score=True, ccp_alpha=0,\n",
    "                            min_samples_leaf=3,\n",
    "                            n_jobs=-1, random_state=123)"
   ]
  },
  {
   "cell_type": "code",
   "execution_count": null,
   "metadata": {},
   "outputs": [],
   "source": [
    "rf_hparams_grid = {'max_depth': [2, 4],\n",
    "                    'max_features': [0.5, 0.75]}\n",
    "rf_cv = GridSearchCV(rf, rf_hparams_grid, scoring='neg_mean_squared_error', n_jobs=-1, cv=tscv, refit=True, return_train_score=True)\n",
    "rf_cv_res = rf_cv.fit(x_train, y_train)"
   ]
  },
  {
   "cell_type": "code",
   "execution_count": null,
   "metadata": {},
   "outputs": [],
   "source": [
    "rf_cv_res_df = pd.DataFrame(rf_cv_res.cv_results_)"
   ]
  },
  {
   "cell_type": "code",
   "execution_count": null,
   "metadata": {},
   "outputs": [],
   "source": [
    "rf_cv_mod = rf_cv_res.best_estimator_"
   ]
  },
  {
   "cell_type": "code",
   "execution_count": null,
   "metadata": {},
   "outputs": [],
   "source": [
    "rf_cv_mod"
   ]
  },
  {
   "cell_type": "code",
   "execution_count": null,
   "metadata": {},
   "outputs": [],
   "source": [
    "rf_cv_res.best_score_"
   ]
  },
  {
   "cell_type": "markdown",
   "metadata": {},
   "source": [
    "## Prediction and Forecating"
   ]
  },
  {
   "cell_type": "code",
   "execution_count": null,
   "metadata": {},
   "outputs": [],
   "source": [
    "p_gna95_train = pd.Series(index=data_train.index, data=rf_cv_mod.predict(x_train))\n",
    "p_gna95_test = pd.Series(index=data_test.index, data=rf_cv_mod.predict(x_test))"
   ]
  },
  {
   "cell_type": "code",
   "execution_count": null,
   "metadata": {},
   "outputs": [],
   "source": [
    "ax = p_gna95_test.plot()\n",
    "y_test.plot(label='actual', style='o', ax=ax)\n",
    "plt.show()"
   ]
  },
  {
   "cell_type": "code",
   "execution_count": null,
   "metadata": {},
   "outputs": [],
   "source": [
    "p_gna95_train_df = p_gna95_train.to_frame(\"p_cons_GNA95_pct_change1_t1\")\n",
    "p_gna95_train_df['cons_GNA95'] = data_train['cons_GNA95']\n",
    "\n",
    "p_gna95_test_df = p_gna95_test.to_frame(\"p_cons_GNA95_pct_change1_t1\")\n",
    "p_gna95_test_df['cons_GNA95'] = data_test['cons_GNA95']\n",
    "\n",
    "p_gna95_train_df['split'] = 'train'\n",
    "p_gna95_test_df['split'] = 'test'\n",
    "\n",
    "p_gna95_df = pd.concat([p_gna95_train_df, p_gna95_test_df], axis=0)"
   ]
  },
  {
   "cell_type": "code",
   "execution_count": null,
   "metadata": {},
   "outputs": [],
   "source": [
    "p1_s = pd.Series(index=p_gna95_df.index, dtype=np.number)\n",
    "p0 = p_gna95_df['cons_GNA95'].iloc[0]\n",
    "\n",
    "for idx, row in p_gna95_df.iterrows():\n",
    "    p1 = (row['p_cons_GNA95_pct_change1_t1'] * p0 + p0)\n",
    "    p0 =  p_gna95_df.loc[idx,'cons_GNA95']  # Using true value, carefully verify this assumption in your workflow\n",
    "    p1_s[idx] = p1\n"
   ]
  },
  {
   "cell_type": "code",
   "execution_count": null,
   "metadata": {},
   "outputs": [],
   "source": [
    "p_gna95_df['cons_GNA95_t1'] = p_gna95_df['cons_GNA95'].shift(-1)\n",
    "p_gna95_df[\"p_cons_GNA95_t1\"] = p1_s\n",
    "# Adatp to forecasting models time-frame\n",
    "p_gna95_df[\"p_cons_GNA95\"] = p_gna95_df[\"p_cons_GNA95_t1\"].shift(1)\n",
    "p_gna95_df = p_gna95_df.iloc[1:].copy()"
   ]
  },
  {
   "cell_type": "code",
   "execution_count": null,
   "metadata": {},
   "outputs": [],
   "source": [
    "fig, ax = plt.subplots(1,1)\n",
    "p_gna95_df.plot(y = 'p_cons_GNA95_t1', label='forecast', ax=ax)\n",
    "p_gna95_df.plot(y = 'cons_GNA95_t1', label='actual', style='o', ax=ax)\n",
    "plt.show()"
   ]
  },
  {
   "cell_type": "markdown",
   "metadata": {},
   "source": [
    "# Model Interpretation"
   ]
  },
  {
   "cell_type": "markdown",
   "metadata": {},
   "source": [
    "## Global feature importance\n",
    "* Measures how important a feature is in overal model performance\n",
    "* scikit-learn out-of-the box global feature imoprtance does not inform about relationship direction"
   ]
  },
  {
   "cell_type": "code",
   "execution_count": null,
   "metadata": {},
   "outputs": [],
   "source": [
    "sklearn_fi = pd.Series(index=all_features, data=rf_cv_mod.feature_importances_).sort_values(ascending=True)\n",
    "sklearn_fi.plot.barh(figsize =(8,6))\n",
    "plt.title('sklearn feature importance')\n",
    "plt.show()"
   ]
  },
  {
   "cell_type": "markdown",
   "metadata": {},
   "source": [
    "## SHAP values"
   ]
  },
  {
   "cell_type": "code",
   "execution_count": null,
   "metadata": {},
   "outputs": [],
   "source": [
    "explainer_model1 = shap.TreeExplainer(rf_cv_mod, feature_perturbation ='tree_path_dependent')\n",
    "shap_values1 = explainer_model1.shap_values(x_train)"
   ]
  },
  {
   "cell_type": "code",
   "execution_count": null,
   "metadata": {},
   "outputs": [],
   "source": [
    "explainer_model2 = shap.TreeExplainer(rf_cv_mod, data =x_train)\n",
    "shap_values2 = explainer_model2.shap_values(x_train)"
   ]
  },
  {
   "cell_type": "code",
   "execution_count": null,
   "metadata": {},
   "outputs": [],
   "source": [
    "print('Expected base value in shap algorithm: ', explainer_model1.expected_value)\n",
    "print('Expected base value in shap algo, fit with data: ', explainer_model2.expected_value)\n",
    "print('Target mean: ', y_train.mean())\n",
    "print('Model prediction mean: ', p_gna95_train.mean())"
   ]
  },
  {
   "cell_type": "code",
   "execution_count": null,
   "metadata": {},
   "outputs": [],
   "source": [
    "shap.summary_plot(shap_values2, x_train, plot_type=\"bar\")"
   ]
  },
  {
   "cell_type": "code",
   "execution_count": null,
   "metadata": {},
   "outputs": [],
   "source": [
    "pd.Series(index=all_features, data=abs(shap_values2).mean(axis=0)).sort_values().plot.barh(figsize=(8,6))\n",
    "plt.title(\"GNA95 Random forest feature importance\")\n",
    "plt.show()"
   ]
  },
  {
   "cell_type": "code",
   "execution_count": null,
   "metadata": {},
   "outputs": [],
   "source": [
    "pd.Series(index=all_features, data=shap_values2.mean(axis=0)).sort_values().plot.barh()\n",
    "plt.show()"
   ]
  },
  {
   "cell_type": "markdown",
   "metadata": {},
   "source": [
    "## Local Feature Importance"
   ]
  },
  {
   "cell_type": "code",
   "execution_count": null,
   "metadata": {},
   "outputs": [],
   "source": [
    "shap.force_plot(explainer_model2.expected_value, shap_values2[3], x_train.iloc[[3]], figsize =(16,4))"
   ]
  },
  {
   "cell_type": "code",
   "execution_count": null,
   "metadata": {},
   "outputs": [],
   "source": [
    "def shap_force_plot(base_value,  shap_values, features_data, obs_j):\n",
    "    features_names = features_data.columns.tolist()\n",
    "    shap_values_row = shap_values[obs_j]\n",
    "    features_row = features_data.iloc[obs_j]\n",
    "    shap_vals_j = pd.Series(index=features_names, data=shap_values_row).to_frame('raw shap values j')\n",
    "    shap_vals_j['shap values j'] = shap_vals_j['raw shap values j'] + base_value\n",
    "    shap_vals_j['contrib to base value'] = np.where(shap_vals_j['raw shap values j']>0, 'positive', 'negative')\n",
    "    ax = sns.barplot(data=shap_vals_j, x='raw shap values j', y=features_names, hue='contrib to base value')\n",
    "    plt.title('Force plot: Shap contribution to prediction by feature')\n",
    "    return ax"
   ]
  },
  {
   "cell_type": "code",
   "execution_count": null,
   "metadata": {},
   "outputs": [],
   "source": [
    "shap_values_df = pd.DataFrame(index=x_train.index, data=shap_values2, columns=all_features)\n",
    "shap_values_df"
   ]
  },
  {
   "cell_type": "markdown",
   "metadata": {},
   "source": [
    "## Detailed Analysis: z-std pct changes in consumption influence\n",
    "z_std measures a shudden and important change in consumption, in general, it is less important than other features like seasonality, but can be a main driver forecast in some extreme situtations?"
   ]
  },
  {
   "cell_type": "code",
   "execution_count": null,
   "metadata": {},
   "outputs": [],
   "source": [
    "sns.distplot(shap_values_df['cons_GNA95_pct_change1_zstd'])\n",
    "plt.title(\"Distribution of z-std pct changes in consumption influence on prediction\")\n",
    "plt.show()"
   ]
  },
  {
   "cell_type": "code",
   "execution_count": null,
   "metadata": {},
   "outputs": [],
   "source": [
    "most_imp_feat_by_obs = abs(shap_values_df).idxmax(axis=1)"
   ]
  },
  {
   "cell_type": "code",
   "execution_count": null,
   "metadata": {},
   "outputs": [],
   "source": [
    "mask = most_imp_feat_by_obs[most_imp_feat_by_obs == 'cons_GNA95_pct_change1_zstd'] \n",
    "p_gna95_df.loc[mask.index]"
   ]
  },
  {
   "cell_type": "code",
   "execution_count": null,
   "metadata": {},
   "outputs": [],
   "source": [
    "idx = range(len(most_imp_feat_by_obs))\n",
    "dates = most_imp_feat_by_obs.index.strftime('%Y-%m-%d')\n",
    "dt_to_idx = dict(zip(dates, idx))"
   ]
  },
  {
   "cell_type": "code",
   "execution_count": null,
   "metadata": {},
   "outputs": [],
   "source": [
    "date_obs = '2013-07-01'\n",
    "idx_obs = dt_to_idx[date_obs]\n",
    "shap.force_plot(explainer_model2.expected_value, shap_values2[idx_obs], x_train.iloc[[idx_obs]], figsize =(16,4))"
   ]
  },
  {
   "cell_type": "code",
   "execution_count": null,
   "metadata": {},
   "outputs": [],
   "source": [
    "x_feat_value = x_train.loc[date_obs, 'cons_GNA95_pct_change1_zstd']\n",
    "sns.distplot(x_train['cons_GNA95_pct_change1_zstd'])\n",
    "plt.title(\"Distribution of z-std pct changes in consumption feature value\")\n",
    "plt.axvline(x_feat_value)\n",
    "plt.text(0.80, 0.95, f'date: {date_obs}', ha='right', va='top', transform = ax.transAxes)\n",
    "plt.show()"
   ]
  },
  {
   "cell_type": "code",
   "execution_count": null,
   "metadata": {},
   "outputs": [],
   "source": [
    "x_train"
   ]
  },
  {
   "cell_type": "markdown",
   "metadata": {},
   "source": [
    "In targeted, pct change in consumptions experiments a tail value (in z_std scale), this leads the model to a prediction where this feature is the MOST IMPORTANT CONTRIBUTOR. In addition, this contribution leads the prediction really close to true value"
   ]
  },
  {
   "cell_type": "code",
   "execution_count": null,
   "metadata": {},
   "outputs": [],
   "source": [
    "zoom_yr = int(date_obs[:4])\n",
    "\n",
    "fig, axs = plt.subplots(2,1)\n",
    "plt.suptitle(f\"Targeted: {date_obs} prediction: pct change in GNA95 consumption\")\n",
    "\n",
    "ax = axs[0]\n",
    "p_gna95_train_df['2012':'2014'].plot(y='p_cons_GNA95_pct_change1_t1',ax=ax)\n",
    "y_train['2012':'2014'].plot(y='cons_GNA95_pct_change1_t1', style='o', ax=ax)\n",
    "ax = axs[1]\n",
    "x_train['2012':'2014'].plot(y='cons_GNA95_pct_change1_zstd', ax=ax)\n",
    "\n",
    "for ax in axs: \n",
    "    ax.axvline(date_obs, color='orange')\n",
    "    \n",
    "\n",
    "plt.show()"
   ]
  },
  {
   "cell_type": "code",
   "execution_count": null,
   "metadata": {},
   "outputs": [],
   "source": [
    "ax = shap_force_plot(base_value=explainer_model2.expected_value,  shap_values=shap_values2, features_data=x_train, obs_j=idx_obs)\n",
    "plt.show()"
   ]
  },
  {
   "cell_type": "code",
   "execution_count": null,
   "metadata": {},
   "outputs": [],
   "source": [
    "x_train.iloc[idx_obs:idx_obs+1].T"
   ]
  },
  {
   "cell_type": "markdown",
   "metadata": {},
   "source": [
    "# Benchmark"
   ]
  },
  {
   "cell_type": "code",
   "execution_count": null,
   "metadata": {},
   "outputs": [],
   "source": [
    "mask_test = p_gna95_df['split'] == 'test'\n",
    "skl_mse(p_gna95_df.loc[mask_test, 'cons_GNA95'], p_gna95_df.loc[mask_test, 'p_cons_GNA95'])**0.5"
   ]
  },
  {
   "cell_type": "code",
   "execution_count": null,
   "metadata": {},
   "outputs": [],
   "source": [
    "mask_test = p_gna95_df['split'] == 'test'\n",
    "mle_tsa.compute_ape(p_gna95_df.loc[mask_test, 'cons_GNA95'], p_gna95_df.loc[mask_test, 'p_cons_GNA95']).mean()"
   ]
  },
  {
   "cell_type": "code",
   "execution_count": null,
   "metadata": {},
   "outputs": [],
   "source": [
    "select_cols = ['model', 'split', 'cons_GNA95', 'p_cons_GNA95']\n",
    "\n",
    "p_gna95_df['model'] = 'simple_random_forest'\n",
    "p_gna95_df[select_cols].to_excel(OUTPATH + OUTFILE, index_label='Date')"
   ]
  },
  {
   "cell_type": "code",
   "execution_count": null,
   "metadata": {},
   "outputs": [],
   "source": []
  }
 ],
 "metadata": {
  "kernelspec": {
   "display_name": "Python 3",
   "language": "python",
   "name": "python3"
  },
  "language_info": {
   "codemirror_mode": {
    "name": "ipython",
    "version": 3
   },
   "file_extension": ".py",
   "mimetype": "text/x-python",
   "name": "python",
   "nbconvert_exporter": "python",
   "pygments_lexer": "ipython3",
   "version": "3.6.10"
  }
 },
 "nbformat": 4,
 "nbformat_minor": 4
}
